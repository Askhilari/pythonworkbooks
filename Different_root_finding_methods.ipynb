{
  "nbformat": 4,
  "nbformat_minor": 0,
  "metadata": {
    "colab": {
      "provenance": [],
      "authorship_tag": "ABX9TyPYErqAuL9Jj1VCY8+emjI9",
      "include_colab_link": true
    },
    "kernelspec": {
      "name": "python3",
      "display_name": "Python 3"
    },
    "language_info": {
      "name": "python"
    }
  },
  "cells": [
    {
      "cell_type": "markdown",
      "metadata": {
        "id": "view-in-github",
        "colab_type": "text"
      },
      "source": [
        "<a href=\"https://colab.research.google.com/github/Askhilari/pythonworkbooks/blob/main/Different_root_finding_methods.ipynb\" target=\"_parent\"><img src=\"https://colab.research.google.com/assets/colab-badge.svg\" alt=\"Open In Colab\"/></a>"
      ]
    },
    {
      "cell_type": "markdown",
      "source": [
        "**Day 1, 1/3/25**"
      ],
      "metadata": {
        "id": "AzxDGfE_BVZt"
      }
    },
    {
      "cell_type": "code",
      "execution_count": null,
      "metadata": {
        "id": "yqqZpD5utGmz"
      },
      "outputs": [],
      "source": [
        "import numpy as np\n",
        "from sympy import *\n",
        "import math\n",
        "import sympy as sp\n",
        "x, y, z, t, w = symbols('x y z t w')\n",
        "init_printing(use_unicode=True)"
      ]
    },
    {
      "cell_type": "code",
      "source": [
        "pii = np.pi"
      ],
      "metadata": {
        "id": "bwGdwZdTtKIA"
      },
      "execution_count": null,
      "outputs": []
    },
    {
      "cell_type": "code",
      "source": [
        "pii"
      ],
      "metadata": {
        "colab": {
          "base_uri": "https://localhost:8080/"
        },
        "id": "-l_dA1wntx_0",
        "outputId": "08e62399-97f3-4cd1-e0b4-341159e8268b"
      },
      "execution_count": null,
      "outputs": [
        {
          "output_type": "execute_result",
          "data": {
            "text/plain": [
              "3.141592653589793"
            ]
          },
          "metadata": {},
          "execution_count": 4
        }
      ]
    },
    {
      "cell_type": "code",
      "source": [
        "np.sin(pii/2)"
      ],
      "metadata": {
        "colab": {
          "base_uri": "https://localhost:8080/"
        },
        "id": "ChlvO-84t7Nj",
        "outputId": "84f02c40-3504-4736-bd36-efd94da6fa6e"
      },
      "execution_count": null,
      "outputs": [
        {
          "output_type": "execute_result",
          "data": {
            "text/plain": [
              "1.0"
            ]
          },
          "metadata": {},
          "execution_count": 5
        }
      ]
    },
    {
      "cell_type": "code",
      "source": [
        "# prompt: Write a for loop from 1 to 10 that gives the square of the index and displays it. Take the index and put in for loop where the output should be squares of the input numbers\n",
        "\n",
        "for i in range(1, 11):\n",
        "  print(f\"The square of {i} is {i**2}\")"
      ],
      "metadata": {
        "colab": {
          "base_uri": "https://localhost:8080/"
        },
        "id": "d5flQ00zt_sA",
        "outputId": "10633b96-4fe9-49fe-bd79-fa93148de89e"
      },
      "execution_count": null,
      "outputs": [
        {
          "output_type": "stream",
          "name": "stdout",
          "text": [
            "The square of 1 is 1\n",
            "The square of 2 is 4\n",
            "The square of 3 is 9\n",
            "The square of 4 is 16\n",
            "The square of 5 is 25\n",
            "The square of 6 is 36\n",
            "The square of 7 is 49\n",
            "The square of 8 is 64\n",
            "The square of 9 is 81\n",
            "The square of 10 is 100\n"
          ]
        }
      ]
    },
    {
      "cell_type": "code",
      "source": [
        "# prompt: Plot the above where square of index is on y axis and index on x axis. Give me a scatter plot\n",
        "\n",
        "import matplotlib.pyplot as plt\n",
        "\n",
        "# Assuming you want to plot the squares of numbers from 1 to 10\n",
        "x_values = list(range(1, 11))\n",
        "y_values = [i**2 for i in x_values]\n",
        "\n",
        "plt.scatter(x_values, y_values)\n",
        "plt.xlabel(\"Index\")\n",
        "plt.ylabel(\"Square of Index\")\n",
        "plt.title(\"Scatter Plot of Index vs. Square of Index\")\n",
        "plt.grid(True)\n",
        "plt.show()"
      ],
      "metadata": {
        "colab": {
          "base_uri": "https://localhost:8080/",
          "height": 472
        },
        "id": "sPkruKyluSa7",
        "outputId": "5c8cd1d2-c64e-48c5-d61b-f040da21913e"
      },
      "execution_count": null,
      "outputs": [
        {
          "output_type": "display_data",
          "data": {
            "text/plain": [
              "<Figure size 640x480 with 1 Axes>"
            ],
            "image/png": "[encoded data removed]"
          },
          "metadata": {}
        }
      ]
    },
    {
      "cell_type": "code",
      "source": [
        "# prompt: Create a program that chops the value of a decimal\n",
        "\n",
        "def chop_decimal(number, decimal_places):\n",
        "  \"\"\"Chops a decimal number to a specified number of decimal places.\n",
        "\n",
        "  Args:\n",
        "    number: The decimal number to chop.\n",
        "    decimal_places: The number of decimal places to keep.\n",
        "\n",
        "  Returns:\n",
        "    The chopped decimal number.\n",
        "  \"\"\"\n",
        "  factor = 10**decimal_places\n",
        "  return int(number * factor) / factor\n",
        "\n",
        "# Example usage:\n",
        "number = 3.14159265359\n",
        "chopped_number = chop_decimal(number, 5)  # Chops to two decimal places\n",
        "print(chopped_number)  # Output: 3.14"
      ],
      "metadata": {
        "colab": {
          "base_uri": "https://localhost:8080/"
        },
        "id": "v9t8U-YaunBE",
        "outputId": "32e5bf70-c9ea-41f4-9736-c8141adf228d"
      },
      "execution_count": null,
      "outputs": [
        {
          "output_type": "stream",
          "name": "stdout",
          "text": [
            "3.14159\n"
          ]
        }
      ]
    },
    {
      "cell_type": "code",
      "source": [
        "perError = (np.pi-chopped_number)/np.pi\n",
        "print(perError)"
      ],
      "metadata": {
        "colab": {
          "base_uri": "https://localhost:8080/"
        },
        "id": "IDlZA50VztZZ",
        "outputId": "69feee89-e9b5-4c7c-91ba-f0fe54a2e433"
      },
      "execution_count": null,
      "outputs": [
        {
          "output_type": "stream",
          "name": "stdout",
          "text": [
            "8.446638650625857e-07\n"
          ]
        }
      ]
    },
    {
      "cell_type": "code",
      "source": [
        "(20.103-20.15)/20.103"
      ],
      "metadata": {
        "colab": {
          "base_uri": "https://localhost:8080/"
        },
        "id": "LpXM2Oxu0EcR",
        "outputId": "64ee0265-273e-43a9-f390-745f086200a9"
      },
      "execution_count": null,
      "outputs": [
        {
          "output_type": "execute_result",
          "data": {
            "text/plain": [
              "-0.0023379595085309176"
            ]
          },
          "metadata": {},
          "execution_count": 13
        }
      ]
    },
    {
      "cell_type": "code",
      "source": [
        "def equation(x):\n",
        "  eqnFin = x*x*x-6.1*x**2+3.2*x+1.5\n",
        "  return eqnFin\n",
        "equation(4.71)\n"
      ],
      "metadata": {
        "colab": {
          "base_uri": "https://localhost:8080/"
        },
        "id": "VGEjkc8p2lg-",
        "outputId": "e9dc372b-86d8-484e-94f1-3296989c0aa5"
      },
      "execution_count": null,
      "outputs": [
        {
          "output_type": "execute_result",
          "data": {
            "text/plain": [
              "-14.263899000000011"
            ]
          },
          "metadata": {},
          "execution_count": 25
        }
      ]
    },
    {
      "cell_type": "code",
      "source": [
        "def equation(x):\n",
        "  cube = x*x*x\n",
        "  return cube\n",
        "equation(4.71)"
      ],
      "metadata": {
        "colab": {
          "base_uri": "https://localhost:8080/"
        },
        "id": "wTNVn2t54Vpp",
        "outputId": "4916c4e9-49b9-4848-b0f3-7a4e310310b1"
      },
      "execution_count": null,
      "outputs": [
        {
          "output_type": "execute_result",
          "data": {
            "text/plain": [
              "104.487111"
            ]
          },
          "metadata": {},
          "execution_count": 24
        }
      ]
    },
    {
      "cell_type": "code",
      "source": [
        "def equation(x):\n",
        "  square = 6.1*x**2\n",
        "  return square\n",
        "equation(4.71)"
      ],
      "metadata": {
        "colab": {
          "base_uri": "https://localhost:8080/"
        },
        "id": "affMc7ul48tc",
        "outputId": "138f9081-b549-4582-de75-aaf58dd0baf1"
      },
      "execution_count": null,
      "outputs": [
        {
          "output_type": "execute_result",
          "data": {
            "text/plain": [
              "135.32301"
            ]
          },
          "metadata": {},
          "execution_count": 27
        }
      ]
    },
    {
      "cell_type": "code",
      "source": [
        "def equation(x):\n",
        "  square = 3.2*x\n",
        "  return square\n",
        "equation(4.71)"
      ],
      "metadata": {
        "colab": {
          "base_uri": "https://localhost:8080/"
        },
        "id": "LekZNEVq6UbK",
        "outputId": "f27be0e8-5608-49ad-f4c5-897535db87de"
      },
      "execution_count": null,
      "outputs": [
        {
          "output_type": "execute_result",
          "data": {
            "text/plain": [
              "15.072000000000001"
            ]
          },
          "metadata": {},
          "execution_count": 28
        }
      ]
    },
    {
      "cell_type": "code",
      "source": [
        "104-135+15.0+1.5"
      ],
      "metadata": {
        "colab": {
          "base_uri": "https://localhost:8080/"
        },
        "id": "Y_9WmuiK6hXS",
        "outputId": "bbc7f552-acb5-4ee2-ec39-1f3ab302e086"
      },
      "execution_count": null,
      "outputs": [
        {
          "output_type": "execute_result",
          "data": {
            "text/plain": [
              "-14.5"
            ]
          },
          "metadata": {},
          "execution_count": 29
        }
      ]
    },
    {
      "cell_type": "code",
      "source": [
        "104-135+15.1+1.5"
      ],
      "metadata": {
        "colab": {
          "base_uri": "https://localhost:8080/"
        },
        "id": "xFs5aVn-6ojE",
        "outputId": "48def486-9886-4d97-d7c5-2dad338f43b1"
      },
      "execution_count": null,
      "outputs": [
        {
          "output_type": "execute_result",
          "data": {
            "text/plain": [
              "-14.4"
            ]
          },
          "metadata": {},
          "execution_count": 32
        }
      ]
    },
    {
      "cell_type": "code",
      "source": [
        "f=4.71*((4.71-6.1)*4.71+3.2)+1.5"
      ],
      "metadata": {
        "id": "z11m3LL-6uxs"
      },
      "execution_count": null,
      "outputs": []
    },
    {
      "cell_type": "code",
      "source": [
        "(4.71-6.1)*4.71"
      ],
      "metadata": {
        "colab": {
          "base_uri": "https://localhost:8080/"
        },
        "id": "P4-O_Kc17u1C",
        "outputId": "78810333-51e0-407b-e9ef-37ede6287f5f"
      },
      "execution_count": null,
      "outputs": [
        {
          "output_type": "execute_result",
          "data": {
            "text/plain": [
              "-6.546899999999998"
            ]
          },
          "metadata": {},
          "execution_count": 34
        }
      ]
    },
    {
      "cell_type": "code",
      "source": [
        "4.71*(-6.54+3.2)+1.5"
      ],
      "metadata": {
        "colab": {
          "base_uri": "https://localhost:8080/"
        },
        "id": "a2btKDC68I3p",
        "outputId": "8ac4defc-a41e-4502-900f-3340da7817ec"
      },
      "execution_count": null,
      "outputs": [
        {
          "output_type": "execute_result",
          "data": {
            "text/plain": [
              "-14.231399999999999"
            ]
          },
          "metadata": {},
          "execution_count": 39
        }
      ]
    },
    {
      "cell_type": "code",
      "source": [
        "4.71*(-6.55+3.2)+1.5"
      ],
      "metadata": {
        "colab": {
          "base_uri": "https://localhost:8080/"
        },
        "id": "ck9a8No88XFs",
        "outputId": "75aadd6b-ccf8-42d3-ce72-812219148d6f"
      },
      "execution_count": null,
      "outputs": [
        {
          "output_type": "execute_result",
          "data": {
            "text/plain": [
              "-14.278499999999998"
            ]
          },
          "metadata": {},
          "execution_count": 37
        }
      ]
    },
    {
      "cell_type": "code",
      "source": [
        "((f+14.2)/f)*100"
      ],
      "metadata": {
        "colab": {
          "base_uri": "https://localhost:8080/"
        },
        "id": "QyHD6E_M8qON",
        "outputId": "a7a7757b-4f49-44d3-c666-b8ed0dfa86bc"
      },
      "execution_count": null,
      "outputs": [
        {
          "output_type": "execute_result",
          "data": {
            "text/plain": [
              "0.44797709237839123"
            ]
          },
          "metadata": {},
          "execution_count": 42
        }
      ]
    },
    {
      "cell_type": "markdown",
      "source": [
        "**\n",
        "\n",
        "```\n",
        "# This is formatted as code\n",
        "```\n",
        "\n",
        "**Day 2, 1/6/25** Root Finding Methods"
      ],
      "metadata": {
        "id": "y97rZAVsBdw8"
      }
    },
    {
      "cell_type": "code",
      "source": [
        "def bisection(f, a, b, tol, N):\n",
        "    n=1\n",
        "    p=0\n",
        "    while n <= N:\n",
        "        p = a+(b-a)/2\n",
        "        if np.isclose(f(p),0) or np.abs(a-b) < tol:\n",
        "            print('Value for p is :', p, 'Iteration is: ' ,n,)\n",
        "            return\n",
        "        if f(a)*f(p)<0:\n",
        "          b=p\n",
        "        else:\n",
        "          a=p\n",
        "        n=n+1\n",
        "    y = f(p)\n",
        "    print('Does not work, function value is', y)\n"
      ],
      "metadata": {
        "id": "b22xpkPTbHGX"
      },
      "execution_count": null,
      "outputs": []
    },
    {
      "cell_type": "code",
      "source": [
        "def bisection2(f, a, b, tol):\n",
        "  for n in range (1,20):\n",
        "    p = a+(b-a)/2\n",
        "    if f(p) == 0 or np.abs((a-b)/a) < tol:\n",
        "      print('Value for p is :', p, 'Iteration is: ' ,n,)\n",
        "      return\n",
        "    if f(a)*f(p)<0:\n",
        "      b=p\n",
        "    else:\n",
        "      a=p\n",
        "  y = f(p)\n",
        "  print('Does not work, function value is', y)"
      ],
      "metadata": {
        "id": "xxstzJP_codP"
      },
      "execution_count": null,
      "outputs": []
    },
    {
      "cell_type": "code",
      "source": [
        "bisection(lambda x: 600*x**4-550*x**3+200*x**2-20*x-1, 0.1,1,10e-4,20)"
      ],
      "metadata": {
        "colab": {
          "base_uri": "https://localhost:8080/"
        },
        "id": "gKgNeneidwtd",
        "outputId": "746aac0a-6e3c-4fae-89fe-1ca5d6621e9b"
      },
      "execution_count": null,
      "outputs": [
        {
          "output_type": "stream",
          "name": "stdout",
          "text": [
            "Value for p is : 0.23227539062500002 Iteration is:  11\n"
          ]
        }
      ]
    },
    {
      "cell_type": "code",
      "source": [
        "bisection2(lambda x: 600*x**4-550*x**3+200*x**2-20*x-1, 0.1,1,10e-4)"
      ],
      "metadata": {
        "colab": {
          "base_uri": "https://localhost:8080/"
        },
        "id": "wMHYrS1Pffws",
        "outputId": "214f61f2-488c-45eb-ceb5-029d6945bf36"
      },
      "execution_count": null,
      "outputs": [
        {
          "output_type": "stream",
          "name": "stdout",
          "text": [
            "Value for p is : 0.23238525390625003 Iteration is:  13\n"
          ]
        }
      ]
    },
    {
      "cell_type": "code",
      "source": [
        "def newton(f, df, pnot, tol):\n",
        "  for n in range (1,20):\n",
        "    p = pnot - f(pnot)/df(pnot)\n",
        "    if f(p) == 0 or np.abs((p-pnot)/p) < tol:\n",
        "      print('Value for p is :', p, 'Iteration is: ' ,n,)\n",
        "      return\n",
        "    pnot = p\n",
        "    if df(p) == 0:\n",
        "      print('Does not work, derivative is zero')\n",
        "      return\n",
        "    n=n+1\n",
        "  y = f(p)\n",
        "  print('Does not work, function value is', y)"
      ],
      "metadata": {
        "id": "cke31W5DfiOi"
      },
      "execution_count": null,
      "outputs": []
    },
    {
      "cell_type": "code",
      "source": [
        "newton(lambda x: 600*x**4-550*x**3+200*x**2-20*x-1, lambda x: 2400*x**3-1650*x**2+400*x-20, 0.5,10e-4)"
      ],
      "metadata": {
        "colab": {
          "base_uri": "https://localhost:8080/"
        },
        "id": "cEzTeGFBm1cK",
        "outputId": "95042ecb-cd44-4a07-8d3e-3f2f94c5b5a4"
      },
      "execution_count": null,
      "outputs": [
        {
          "output_type": "stream",
          "name": "stdout",
          "text": [
            "Value for p is : 0.23235296476876366 Iteration is:  5\n"
          ]
        }
      ]
    },
    {
      "cell_type": "code",
      "source": [
        "def secant(f, p0, p1, tol):\n",
        "  for n in range (1,20):\n",
        "    p = p1 - f(p1)*(p1-p0)/(f(p1)-f(p0))\n",
        "    if f(p) == 0 or np.abs((p-p1)/p) < tol:\n",
        "      print('Value for p is :', p, 'Iteration is: ' ,n,)\n",
        "      return\n",
        "    p0 = p1\n",
        "    p1 = p\n",
        "    n=n+1\n",
        "  y = f(p)\n",
        "  print('Does not work, function value is', y)"
      ],
      "metadata": {
        "id": "WAbKKSjmngpp"
      },
      "execution_count": null,
      "outputs": []
    },
    {
      "cell_type": "code",
      "source": [
        "secant(lambda x: 1200*x/(7e10*0.01*0.25), 10,1000,10e-4)"
      ],
      "metadata": {
        "colab": {
          "base_uri": "https://localhost:8080/"
        },
        "id": "mWT5Eqcv6aay",
        "outputId": "2fa45a83-4128-4407-ff3b-db2b35ddc3b5"
      },
      "execution_count": null,
      "outputs": [
        {
          "output_type": "stream",
          "name": "stdout",
          "text": [
            "Value for p is : 0.0 Iteration is:  1\n"
          ]
        }
      ]
    },
    {
      "cell_type": "code",
      "source": [
        "secant(lambda x: 600*x**4-550*x**3+200*x**2-20*x-1, 0.2,1,10e-4)"
      ],
      "metadata": {
        "colab": {
          "base_uri": "https://localhost:8080/"
        },
        "id": "MGm15ANisLZL",
        "outputId": "68ef4d8e-90d7-4705-e542-6ba15df55588"
      },
      "execution_count": null,
      "outputs": [
        {
          "output_type": "stream",
          "name": "stdout",
          "text": [
            "Value for p is : 0.23235295168799966 Iteration is:  5\n"
          ]
        }
      ]
    },
    {
      "cell_type": "code",
      "source": [
        "def mueller(f, p0, p1, p2, tol):\n",
        "  for n in range (1,20):\n",
        "    c = f(p2)\n",
        "    b = (((p0-p2)*(f(p1)-f(p2)))/((p1-p2)*(p0-p1))) - (((p1-p2)*(f(p0)-f(p2)))/((p0-p2)*(p0-p1)))\n",
        "    a = (((f(p0)-f(p2)))/((p0-p2)*(p0-p1))) - (((f(p1)-f(p2)))/((p1-p2)*(p0-p1)))\n",
        "    de = complex(b**2-(4*a*c))**0.5\n",
        "    if np.abs(b+de) > np.abs(b-de):\n",
        "      rt = 2*c/(b+de)\n",
        "    if np.abs(b-de) > np.abs(b+de):\n",
        "      rt = 2*c/(b-de)\n",
        "    p = p2 - rt\n",
        "    if f(p) == 0 or np.abs((p-p2)/p)<tol:\n",
        "      print('Value for p is :', p, 'Iteration is: ' ,n,)\n",
        "      return\n",
        "    p0 = p1\n",
        "    p1 = p2\n",
        "    p2 = p\n",
        "    n = n + 1\n",
        "  y = f(p)\n",
        "  print('Does not work, function value is', y)"
      ],
      "metadata": {
        "id": "C5sbt5T_snr3"
      },
      "execution_count": null,
      "outputs": []
    },
    {
      "cell_type": "code",
      "source": [
        "mueller(lambda x: 600*x**4-550*x**3+200*x**2-20*x-1, 0.1,0.3,.8,10e-4)"
      ],
      "metadata": {
        "colab": {
          "base_uri": "https://localhost:8080/"
        },
        "id": "I1xmdjWI_kqf",
        "outputId": "69f3c609-e4ac-4666-d80d-59ad8656ec53"
      },
      "execution_count": null,
      "outputs": [
        {
          "output_type": "stream",
          "name": "stdout",
          "text": [
            "Value for p is : (0.23235296032819602+1.7758570552906178e-09j) Iteration is:  6\n"
          ]
        }
      ]
    },
    {
      "cell_type": "code",
      "source": [
        "x, y, z, a, b, h = symbols('x y z a b h')\n",
        "init_printing(use_unicode=True)"
      ],
      "metadata": {
        "id": "KeF5tPTRg6hF"
      },
      "execution_count": null,
      "outputs": []
    },
    {
      "cell_type": "code",
      "source": [
        "simplify(2*h**(-2)*integrate((x-a-h)*(x-a-2*h),(x,a,(a+2*h))))"
      ],
      "metadata": {
        "id": "_Wfh40aH_zzY",
        "colab": {
          "base_uri": "https://localhost:8080/",
          "height": 52
        },
        "outputId": "e3c05477-fbb4-44f7-9d18-169f4bf27875"
      },
      "execution_count": null,
      "outputs": [
        {
          "output_type": "execute_result",
          "data": {
            "text/plain": [
              "4⋅h\n",
              "───\n",
              " 3 "
            ],
            "text/latex": "$\\displaystyle \\frac{4 h}{3}$"
          },
          "metadata": {},
          "execution_count": 4
        }
      ]
    },
    {
      "cell_type": "code",
      "source": [],
      "metadata": {
        "id": "D67c0Z5Vhbqv"
      },
      "execution_count": null,
      "outputs": []
    },
    {
      "cell_type": "code",
      "source": [],
      "metadata": {
        "id": "o3pTYxBHt02n"
      },
      "execution_count": null,
      "outputs": []
    },
    {
      "cell_type": "code",
      "source": [],
      "metadata": {
        "id": "Fg4SXVYrt0zX"
      },
      "execution_count": null,
      "outputs": []
    },
    {
      "cell_type": "code",
      "source": [],
      "metadata": {
        "id": "nQYM1Qwqt0w8"
      },
      "execution_count": null,
      "outputs": []
    },
    {
      "cell_type": "code",
      "source": [],
      "metadata": {
        "id": "HglHZBbxt0uj"
      },
      "execution_count": null,
      "outputs": []
    },
    {
      "cell_type": "code",
      "source": [],
      "metadata": {
        "id": "fczAM6FJt0sA"
      },
      "execution_count": null,
      "outputs": []
    },
    {
      "cell_type": "code",
      "source": [],
      "metadata": {
        "id": "CPgjC58Nt0pX"
      },
      "execution_count": null,
      "outputs": []
    },
    {
      "cell_type": "code",
      "source": [],
      "metadata": {
        "id": "HK7d6ZwBt0m2"
      },
      "execution_count": null,
      "outputs": []
    },
    {
      "cell_type": "markdown",
      "source": [
        "Exam Q2"
      ],
      "metadata": {
        "id": "u8t3ZUPtt2bf"
      }
    },
    {
      "cell_type": "code",
      "source": [
        "def secant(f, p0, p1, tol):\n",
        "  for n in range (1,20):\n",
        "    p = p1 - f(p1)*(p1-p0)/(f(p1)-f(p0))\n",
        "    if f(p) == 0 or np.abs((p-p1)/p) < tol:\n",
        "      print('Value for p is :', p, 'Iteration is: ' ,n,)\n",
        "      return\n",
        "    p0 = p1\n",
        "    p1 = p\n",
        "    n=n+1\n",
        "  y = f(p)\n",
        "  print('Does not work, function value is', y)"
      ],
      "metadata": {
        "id": "UuDlrGGnt0g4"
      },
      "execution_count": null,
      "outputs": []
    },
    {
      "cell_type": "code",
      "source": [
        "secant(lambda x: (1000000*np.exp(x))+((435000/x)*(np.exp(x)-1))-1564000,0.05,1,10e-5)"
      ],
      "metadata": {
        "colab": {
          "base_uri": "https://localhost:8080/"
        },
        "id": "pD0kRKTyt4XR",
        "outputId": "f32df759-8a9d-48b3-9ac7-134350128809"
      },
      "execution_count": null,
      "outputs": [
        {
          "output_type": "stream",
          "name": "stdout",
          "text": [
            "Value for p is : 0.1009979296798922 Iteration is:  5\n"
          ]
        }
      ]
    },
    {
      "cell_type": "markdown",
      "source": [
        "Exam Q4"
      ],
      "metadata": {
        "id": "gG5SZ6WLxgTz"
      }
    },
    {
      "cell_type": "code",
      "source": [
        "def trapezoid(f,a,b):\n",
        "  h = (b-a)\n",
        "  return ((h/2)*(f(a)+f(b)))\n",
        "def simpsons(f,a,b):\n",
        "  return ((f(a)+4*f((a+b)/2)+f(b))*(b-a)/6)"
      ],
      "metadata": {
        "id": "EaDJLtpTxfkt"
      },
      "execution_count": null,
      "outputs": []
    },
    {
      "cell_type": "code",
      "source": [
        "print(\"Trapezoid Integral 1: \", trapezoid(lambda x: (np.sqrt(1+1/x)),1,4))\n",
        "print(\"Simpsons Integral 1: \", simpsons(lambda x: (np.sqrt(1+1/x)),1,4))\n",
        "print(\"Trapezoid Integral 2: \", trapezoid(lambda x: (np.sqrt(x**4+1)),0,1))\n",
        "print(\"Simpsons Integral 2: \", simpsons(lambda x: (np.sqrt(x**4+1)),0,1))"
      ],
      "metadata": {
        "colab": {
          "base_uri": "https://localhost:8080/"
        },
        "id": "twkrwBIhx4dV",
        "outputId": "9bf7703a-4538-4ec9-b92b-77762f4bbf80"
      },
      "execution_count": null,
      "outputs": [
        {
          "output_type": "stream",
          "name": "stdout",
          "text": [
            "Trapezoid Integral 1:  3.7983713266844847\n",
            "Simpsons Integral 1:  3.6325556888013413\n",
            "Trapezoid Integral 2:  1.2071067811865475\n",
            "Simpsons Integral 2:  1.0895531979984592\n"
          ]
        }
      ]
    },
    {
      "cell_type": "code",
      "source": [
        "x, y, z, t, w = symbols('x y z t w')\n",
        "init_printing(use_unicode=True)\n",
        "trapdiff = diff(diff(sqrt(1+1/x),x),x)\n",
        "trapErr = simplify((((4-1)/2)**2)/12*trapdiff.subs(x,4))\n",
        "print('Error in trapezoid is:',simplify(trapErr))"
      ],
      "metadata": {
        "colab": {
          "base_uri": "https://localhost:8080/"
        },
        "id": "Js5gVURnyr4I",
        "outputId": "59017299-325f-48d4-b6ac-2b53a8270fdd"
      },
      "execution_count": null,
      "outputs": [
        {
          "output_type": "stream",
          "name": "stdout",
          "text": [
            "Error in trapezoid is: 0.00111328125*sqrt(5)\n"
          ]
        }
      ]
    },
    {
      "cell_type": "code",
      "source": [
        "simpsdiff = diff(diff(diff(diff(sqrt(1+1/x),x),x),x),x)\n",
        "simpsErr = simplify((((4-1)/2)**5)/90*simpsdiff.subs(x,4))\n",
        "print('Error in simpsons is:',simplify(simpsErr))"
      ],
      "metadata": {
        "colab": {
          "base_uri": "https://localhost:8080/"
        },
        "id": "Wu8Ud1hNzLIj",
        "outputId": "96f38ca9-0b8e-408f-9787-690e922c78bb"
      },
      "execution_count": null,
      "outputs": [
        {
          "output_type": "stream",
          "name": "stdout",
          "text": [
            "Error in simpsons is: 0.000341867065429688*sqrt(5)\n"
          ]
        }
      ]
    },
    {
      "cell_type": "code",
      "source": [
        "trapdiff2 = diff(diff(sqrt(x**4+1),x),x)\n",
        "trapErr2 = simplify((((1-0)/2)**2)/12*trapdiff2.subs(x,1))\n",
        "print('Error in trapezoid is:',simplify(trapErr2))"
      ],
      "metadata": {
        "colab": {
          "base_uri": "https://localhost:8080/"
        },
        "id": "g0vFnubfzqFz",
        "outputId": "07cd439f-7364-43bb-97ce-22d567acf637"
      },
      "execution_count": null,
      "outputs": [
        {
          "output_type": "stream",
          "name": "stdout",
          "text": [
            "Error in trapezoid is: 0.0416666666666667*sqrt(2)\n"
          ]
        }
      ]
    },
    {
      "cell_type": "code",
      "source": [
        "simpsdiff2 = diff(diff(diff(diff(sqrt(x**4+1),x),x),x),x)\n",
        "simpsErr2 = simplify((((1-0)/2)**5)/90*simpsdiff.subs(x,1))\n",
        "print('Error in simpsons is:',simplify(simpsErr2))"
      ],
      "metadata": {
        "colab": {
          "base_uri": "https://localhost:8080/"
        },
        "id": "aPqiTfl-1Qcd",
        "outputId": "57fdbc00-920d-441b-f32a-5444810895bd"
      },
      "execution_count": null,
      "outputs": [
        {
          "output_type": "stream",
          "name": "stdout",
          "text": [
            "Error in simpsons is: 0.00147705078125*sqrt(2)\n"
          ]
        }
      ]
    },
    {
      "cell_type": "code",
      "source": [
        "def chop_decimal(number, decimal_places):\n",
        "  factor = 10**decimal_places\n",
        "  return int(number * factor) / factor"
      ],
      "metadata": {
        "id": "MZVCq33_1eud"
      },
      "execution_count": null,
      "outputs": []
    },
    {
      "cell_type": "code",
      "source": [
        "chop_decimal(11**2,5)"
      ],
      "metadata": {
        "colab": {
          "base_uri": "https://localhost:8080/",
          "height": 37
        },
        "id": "SyP53KMr2Wqq",
        "outputId": "537a78d3-b665-4430-fdae-0dc8e19da6de"
      },
      "execution_count": null,
      "outputs": [
        {
          "output_type": "execute_result",
          "data": {
            "text/plain": [
              "121.0"
            ],
            "text/latex": "$\\displaystyle 121.0$"
          },
          "metadata": {},
          "execution_count": 43
        }
      ]
    },
    {
      "cell_type": "code",
      "source": [
        "chop_decimal((10+1)**2,1)"
      ],
      "metadata": {
        "colab": {
          "base_uri": "https://localhost:8080/",
          "height": 37
        },
        "id": "q71jxzCq2biR",
        "outputId": "39d06c2d-7069-483b-94f7-4c1b02225008"
      },
      "execution_count": null,
      "outputs": [
        {
          "output_type": "execute_result",
          "data": {
            "text/plain": [
              "121.0"
            ],
            "text/latex": "$\\displaystyle 121.0$"
          },
          "metadata": {},
          "execution_count": 47
        }
      ]
    },
    {
      "cell_type": "code",
      "source": [
        "10**2"
      ],
      "metadata": {
        "colab": {
          "base_uri": "https://localhost:8080/",
          "height": 37
        },
        "id": "ZLliH4Xi2fs0",
        "outputId": "2c2a1056-b574-43d3-83bc-e47dbe8c5542"
      },
      "execution_count": null,
      "outputs": [
        {
          "output_type": "execute_result",
          "data": {
            "text/plain": [
              "100"
            ],
            "text/latex": "$\\displaystyle 100$"
          },
          "metadata": {},
          "execution_count": 45
        }
      ]
    },
    {
      "cell_type": "code",
      "source": [
        "2*10"
      ],
      "metadata": {
        "colab": {
          "base_uri": "https://localhost:8080/",
          "height": 37
        },
        "id": "y99nhXW72jSQ",
        "outputId": "becfd599-d8e4-453d-fb40-c5ad5f171f32"
      },
      "execution_count": null,
      "outputs": [
        {
          "output_type": "execute_result",
          "data": {
            "text/plain": [
              "20"
            ],
            "text/latex": "$\\displaystyle 20$"
          },
          "metadata": {},
          "execution_count": 46
        }
      ]
    },
    {
      "cell_type": "markdown",
      "source": [
        "Ordinary Differential Equations"
      ],
      "metadata": {
        "id": "y2rTeyG_dhbD"
      }
    },
    {
      "cell_type": "code",
      "source": [
        "def euler(yprime, ti, N, tf, y0):\n",
        "  h = (tf - ti)/N\n",
        "  yi = np.zeros(N+1)\n",
        "  yi[0] = y0\n",
        "  #t_values = [ti + i * h for i in range(0,N+1)]\n",
        "  for i in range(1,N+1):\n",
        "    tval = ti + (i-1) * h\n",
        "    yi[i] = yi[i-1] + h*yprime(yi[i-1],tval)\n",
        "  return yi"
      ],
      "metadata": {
        "id": "YnZ3NB6W2mCT"
      },
      "execution_count": null,
      "outputs": []
    },
    {
      "cell_type": "code",
      "source": [
        "euler(lambda y,t: (y - t**2 + 1), 0,10,2,0.5)"
      ],
      "metadata": {
        "colab": {
          "base_uri": "https://localhost:8080/"
        },
        "id": "VV2PHg7whUqK",
        "outputId": "0085a945-f831-4571-c006-c338acd94735"
      },
      "execution_count": null,
      "outputs": [
        {
          "output_type": "execute_result",
          "data": {
            "text/plain": [
              "array([0.5       , 0.8       , 1.152     , 1.5504    , 1.98848   ,\n",
              "       2.458176  , 2.9498112 , 3.45177344, 3.95012813, 4.42815375,\n",
              "       4.8657845 ])"
            ]
          },
          "metadata": {},
          "execution_count": 195
        }
      ]
    },
    {
      "cell_type": "code",
      "source": [
        "def midpoint(yprime, ti, N, tf, y0):\n",
        "  h = (tf - ti)/N\n",
        "  yi = np.zeros(N+1)\n",
        "  yi[0] = y0\n",
        "  t_values = [ti + i * h for i in range(0,N+1)]\n",
        "  for i in range(1,N+1):\n",
        "    #tval = ti + (i-1) * h\n",
        "    yi[i] = yi[i-1] + h*yprime(yi[i-1]+h*yprime(yi[i-1],t_values[i-1])/2,t_values[i-1]+h/2)\n",
        "  return yi"
      ],
      "metadata": {
        "id": "QNk1BjZViCTa"
      },
      "execution_count": null,
      "outputs": []
    },
    {
      "cell_type": "code",
      "source": [
        "midpoint(lambda y,t: (y - t**2 + 1), 0,10,2,0.5)"
      ],
      "metadata": {
        "colab": {
          "base_uri": "https://localhost:8080/"
        },
        "id": "5uWoZ-WTvsCC",
        "outputId": "7f878a15-95d1-4e23-f7e5-502bfa01c4bd"
      },
      "execution_count": null,
      "outputs": [
        {
          "output_type": "execute_result",
          "data": {
            "text/plain": [
              "array([0.5       , 0.828     , 1.21136   , 1.6446592 , 2.12128422,\n",
              "       2.63316675, 3.17046344, 3.7211654 , 4.27062178, 4.80095857,\n",
              "       5.29036946])"
            ]
          },
          "metadata": {},
          "execution_count": 197
        }
      ]
    },
    {
      "cell_type": "code",
      "source": [
        "def modified_euler(yprime, ti, N, tf, y0):\n",
        "  h = (tf - ti)/N\n",
        "  yi = np.zeros(N+1)\n",
        "  yi[0] = y0\n",
        "  t_values = [ti + i * h for i in range(0,N+1)]\n",
        "  for i in range(1,N+1):\n",
        "    yi[i] = yi[i-1] + (h/2)*(yprime(yi[i-1],t_values[i-1])+yprime(yi[i-1]+h*yprime(yi[i-1],t_values[i-1]),t_values[i]))\n",
        "  return yi"
      ],
      "metadata": {
        "id": "D7DMNnZgvvvL"
      },
      "execution_count": null,
      "outputs": []
    },
    {
      "cell_type": "code",
      "source": [
        "modified_euler(lambda y,t: (y - t**2 + 1), 0,10,2,0.5)"
      ],
      "metadata": {
        "colab": {
          "base_uri": "https://localhost:8080/"
        },
        "id": "tX8zHPpCx08y",
        "outputId": "1ffda7e0-bb80-4401-edc9-2a1202fbc518"
      },
      "execution_count": null,
      "outputs": [
        {
          "output_type": "execute_result",
          "data": {
            "text/plain": [
              "array([0.5       , 0.826     , 1.20692   , 1.6372424 , 2.11023573,\n",
              "       2.61768759, 3.14957886, 3.69368621, 4.23509717, 4.75561855,\n",
              "       5.23305463])"
            ]
          },
          "metadata": {},
          "execution_count": 199
        }
      ]
    },
    {
      "cell_type": "code",
      "source": [
        "def huen(yprime, ti, N, tf, y0):\n",
        "  h = (tf - ti)/N\n",
        "  yi = np.zeros(N+1)\n",
        "  yi[0] = y0\n",
        "  t_values = [ti + i * h for i in range(0,N+1)]\n",
        "  for i in range(1,N+1):\n",
        "    yi[i] = yi[i-1] + (h/4)*(yprime(yi[i-1],t_values[i-1])+3*yprime(yi[i-1]+(2*h*yprime(yi[i-1],t_values[i-1]))/3, t_values[i-1]+ 2*h/3))\n",
        "  return yi"
      ],
      "metadata": {
        "id": "Yr-xgk_Jx2sB"
      },
      "execution_count": null,
      "outputs": []
    },
    {
      "cell_type": "code",
      "source": [
        "huen(lambda y,t: (y - t**2 + 1), 0,10,2,0.5)"
      ],
      "metadata": {
        "colab": {
          "base_uri": "https://localhost:8080/"
        },
        "id": "6idkByVO1j_U",
        "outputId": "7b51d198-b106-4b75-83c1-020d43692496"
      },
      "execution_count": null,
      "outputs": [
        {
          "output_type": "execute_result",
          "data": {
            "text/plain": [
              "array([0.5       , 0.82733333, 1.20988   , 1.64218693, 2.11760139,\n",
              "       2.62800703, 3.16350191, 3.71200567, 4.25878025, 4.78584523,\n",
              "       5.27126452])"
            ]
          },
          "metadata": {},
          "execution_count": 201
        }
      ]
    },
    {
      "cell_type": "code",
      "source": [
        "def rk4(yprime, ti, N, tf, y0):\n",
        "  h = (tf - ti)/N\n",
        "  yi = np.zeros(N+1)\n",
        "  yi[0] = y0\n",
        "  t_values = [ti + i * h for i in range(0,N+1)]\n",
        "  for i in range(1,N+1):\n",
        "    k1 = h*yprime(yi[i-1],t_values[i-1])\n",
        "    k2 = h*yprime(yi[i-1]+k1/2,t_values[i-1]+h/2)\n",
        "    k3 = h*yprime(yi[i-1]+k2/2,t_values[i-1]+h/2)\n",
        "    k4 = h*yprime(yi[i-1]+k3,t_values[i-1]+h)\n",
        "    yi[i] = yi[i-1] + (k1+2*k2+2*k3+k4)/6\n",
        "  return yi"
      ],
      "metadata": {
        "id": "FGkvtL3I1mW5"
      },
      "execution_count": null,
      "outputs": []
    },
    {
      "cell_type": "code",
      "source": [
        "rk4(lambda y,t: (y - t**2 + 1), 0,10,2,0.5)"
      ],
      "metadata": {
        "colab": {
          "base_uri": "https://localhost:8080/"
        },
        "id": "UM8v96u-GR5t",
        "outputId": "5f495227-7840-45e8-b3bb-06a673f5980e"
      },
      "execution_count": null,
      "outputs": [
        {
          "output_type": "execute_result",
          "data": {
            "text/plain": [
              "array([0.5       , 0.82929333, 1.21407621, 1.64892202, 2.12720268,\n",
              "       2.64082269, 3.17989417, 3.73234007, 4.2834095 , 4.81508569,\n",
              "       5.305363  ])"
            ]
          },
          "metadata": {},
          "execution_count": 4
        }
      ]
    },
    {
      "cell_type": "code",
      "source": [
        "def rkFul6(yprime, ti, tf, y0, hmax, hmin, tol):\n",
        "  t = ti\n",
        "  y = y0\n",
        "  h = hmax\n",
        "  flag = 1\n",
        "\n",
        "  # Calculate the number of steps 'N' based on hmax and the interval\n",
        "  N = int((tf - ti) / hmax) + 1  # Add 1 to include the initial point\n",
        "\n",
        "  # Initialize y_values with the correct size\n",
        "  y_values = np.zeros(N)\n",
        "  y_values[0] = y0  # Set the initial value\n",
        "\n",
        "  i = 1\n",
        "  while flag == 1:\n",
        "    k1 = h * yprime(y_values[i - 1], t)\n",
        "    k2 = h * yprime(y_values[i - 1] + k1 / 4, t + h / 4)\n",
        "    k3 = h * yprime(y_values[i - 1] + 3 * k1 / 32 + 9 * k2 / 32, t + 3 * h / 8)\n",
        "    k4 = h * yprime(y_values[i - 1] + (1932 * k1 / 2197) - (7200 * k2 / 2197) + (7296 * k3 / 2197), t + (12 * h) / 13)\n",
        "    k5 = h * yprime(y_values[i - 1] + (439 * k1 / 216) - 8 * k2 + (3680 * k3 / 513) - (845 * k4 / 4104), t + h)\n",
        "    k6 = h * yprime(y_values[i - 1] - (8 * k1 / 27) + 2 * k2 - (3544 * k3 / 2565) + (1859 * k4 / 4104) - (11 * k5 / 40), t + h / 2)\n",
        "\n",
        "    R = (abs((k1 / 360) - (128 * k3 / 4275) - (2197 * k4 / 75240) + (k5 / 50) + (2 * k6 / 55))) / h\n",
        "\n",
        "    if R <= tol:\n",
        "        t = t + h\n",
        "        y_values[i] = y_values[i - 1] + (25 * k1 / 216) + (1408 * k3 / 2565) + (2197 * k4 / 4104) - (k5 / 5)\n",
        "        i += 1\n",
        "\n",
        "    # Dynamic step size adjustment:\n",
        "    delta = 0.84 * (tol / R)**(1/4)  # Using 'delta' instead of 'delt'\n",
        "\n",
        "    if delta <= 0.1:\n",
        "        h = 0.1 * h\n",
        "    elif delta >= 4:\n",
        "        h = 4 * h\n",
        "    else:\n",
        "        h = delta * h\n",
        "\n",
        "    # Enforce step size limits:\n",
        "    h = min(hmax, max(hmin, h))\n",
        "\n",
        "    # Check if 'i' has reached 'N', and if so, set flag to 0\n",
        "    if i >= N:\n",
        "        flag = 0\n",
        "    # Termination conditions:\n",
        "    if t >= tf:\n",
        "      flag = 0\n",
        "    elif t + h > tf:\n",
        "      h = tf - t  # Adjust h for the last step\n",
        "    elif h < hmin:\n",
        "      flag = 0\n",
        "      #print('minimum h exceeded') # Remove or comment out printing\n",
        "  return y_values"
      ],
      "metadata": {
        "id": "F729VCQ5gPXX"
      },
      "execution_count": null,
      "outputs": []
    },
    {
      "cell_type": "code",
      "source": [
        "rkFul6(lambda y,t: (y - t**2 + 1), 0,2,0.5,0.25,0.01,10e-5)"
      ],
      "metadata": {
        "colab": {
          "base_uri": "https://localhost:8080/"
        },
        "id": "g7KAp-nGkt4V",
        "outputId": "c255586e-088a-45fe-aa08-4f4f91904c01"
      },
      "execution_count": null,
      "outputs": [
        {
          "output_type": "execute_result",
          "data": {
            "text/plain": [
              "array([0.5       , 0.9204886 , 1.42564223, 2.00400469, 2.64086592,\n",
              "       3.31733784, 4.00916762, 4.68521401, 5.30549083])"
            ]
          },
          "metadata": {},
          "execution_count": 32
        }
      ]
    },
    {
      "cell_type": "code",
      "source": [
        "def systemRK4(y1prime, y2prime, ti, N, tf, y10, y20):\n",
        "  h = (tf - ti)/N\n",
        "  t = ti\n",
        "  y1 = np.zeros(N+1)\n",
        "  y2 = np.zeros(N+1)\n",
        "  y1[0] = y10\n",
        "  y2[0] = y20\n",
        "  for j in range(1,N+1):\n",
        "    k11 = h*y1prime(y1[j-1],y2[j-1],t)\n",
        "    k12 = h*y2prime(y1[j-1],y2[j-1],t)\n",
        "    k21 = h*y1prime(y1[j-1]+k11/2,y2[j-1]+k12/2,t+h/2)\n",
        "    k22 = h*y2prime(y1[j-1]+k12/2,y2[j-1]+k12/2,t+h/2)\n",
        "    k31 = h*y1prime(y1[j-1]+k21/2,y2[j-1]+k22/2,t+h/2)\n",
        "    k32 = h*y2prime(y1[j-1]+k22/2,y2[j-1]+k22/2,t+h/2)\n",
        "    k41 = h*y1prime(y1[j-1]+k31,y2[j-1]+k32,t+h)\n",
        "    k42 = h*y2prime(y1[j-1]+k32,y2[j-1]+k32,t+h)\n",
        "    t = ti + (j-1)*h\n",
        "    y1[j] = y1[j-1]+(k11+2*k21+2*k31+k41)/6\n",
        "    y2[j] = y2[j-1]+(k12+2*k22+2*k32+k42)/6\n",
        "  return y1, y2"
      ],
      "metadata": {
        "id": "nG7DLferm57J"
      },
      "execution_count": null,
      "outputs": []
    },
    {
      "cell_type": "code",
      "source": [
        "systemRK4(lambda y1,y2,t: (-4*y1+3*y2+6),lambda y1,y2,t: (-2.4*y1+1.6*y2+3.6),0,5,0.5,0,0)"
      ],
      "metadata": {
        "colab": {
          "base_uri": "https://localhost:8080/"
        },
        "id": "ZSKzIH19r1Oz",
        "outputId": "f690701b-3cc5-4d1f-c440-3f842d08c401"
      },
      "execution_count": null,
      "outputs": [
        {
          "output_type": "execute_result",
          "data": {
            "text/plain": [
              "(array([0.        , 0.5406528 , 0.97907281, 1.33296313, 1.61701584,\n",
              "        1.84342218]),\n",
              " array([0.        , 0.34597632, 0.62045042, 0.8360077 , 1.00308551,\n",
              "        1.1303374 ]))"
            ]
          },
          "metadata": {},
          "execution_count": 16
        }
      ]
    },
    {
      "cell_type": "code",
      "source": [
        "def systemSiimpleRK4(y1prime, y2prime, ti, N, tf, y10, y20):\n",
        "    h = (tf - ti) / N\n",
        "    t = ti\n",
        "    y1 = np.zeros(N + 1)\n",
        "    y2 = np.zeros(N + 1)\n",
        "    y1[0] = y10\n",
        "    y2[0] = y20\n",
        "\n",
        "    k1s = np.zeros((N + 1, 2))\n",
        "    k2s = np.zeros((N + 1, 2))\n",
        "    k3s = np.zeros((N + 1, 2))\n",
        "    k4s = np.zeros((N + 1, 2))\n",
        "\n",
        "\n",
        "    for j in range(1, N + 1):\n",
        "        k1s[j, 0] = h * y1prime(y1[j - 1], y2[j - 1], t)\n",
        "        k1s[j, 1] = h * y2prime(y1[j - 1], y2[j - 1], t)\n",
        "\n",
        "        k2s[j, 0] = h * y1prime(y1[j - 1] + k1s[j, 0] / 2, y2[j - 1] + k1s[j, 1] / 2, t + h / 2)\n",
        "        k2s[j, 1] = h * y2prime(y1[j - 1] + k1s[j, 0] / 2, y2[j - 1] + k1s[j, 1] / 2, t + h / 2)\n",
        "\n",
        "        k3s[j, 0] = h * y1prime(y1[j - 1] + k2s[j, 0] / 2, y2[j - 1] + k2s[j, 1] / 2, t + h / 2)\n",
        "        k3s[j, 1] = h * y2prime(y1[j - 1] + k2s[j, 0] / 2, y2[j - 1] + k2s[j, 1] / 2, t + h / 2)\n",
        "\n",
        "        k4s[j, 0] = h * y1prime(y1[j - 1] + k3s[j, 0], y2[j - 1] + k3s[j, 1], t + h)\n",
        "        k4s[j, 1] = h * y2prime(y1[j - 1] + k3s[j, 0], y2[j - 1] + k3s[j, 1], t + h)\n",
        "\n",
        "\n",
        "        t = ti + (j - 1) * h\n",
        "        y1[j] = y1[j - 1] + (k1s[j, 0] + 2 * k2s[j, 0] + 2 * k3s[j, 0] + k4s[j, 0]) / 6\n",
        "        y2[j] = y2[j - 1] + (k1s[j, 1] + 2 * k2s[j, 1] + 2 * k3s[j, 1] + k4s[j, 1]) / 6\n",
        "\n",
        "    return y1, y2"
      ],
      "metadata": {
        "id": "198us7cK4afc"
      },
      "execution_count": null,
      "outputs": []
    },
    {
      "cell_type": "code",
      "source": [
        "systemSiimpleRK4(lambda y1,y2,t: (-4*y1+3*y2+6),lambda y1,y2,t: (-2.4*y1+1.6*y2+3.6),0,5,0.5,0,0)"
      ],
      "metadata": {
        "colab": {
          "base_uri": "https://localhost:8080/"
        },
        "id": "N-wi1Q0L5zzI",
        "outputId": "c73e2da8-1386-4b3d-b89e-767f6b543da6"
      },
      "execution_count": null,
      "outputs": [
        {
          "output_type": "execute_result",
          "data": {
            "text/plain": [
              "(array([0.        , 0.5382552 , 0.96849874, 1.31071904, 1.58126524,\n",
              "        1.79350749]),\n",
              " array([0.        , 0.31962624, 0.56878217, 0.76073313, 0.90632062,\n",
              "        1.01440242]))"
            ]
          },
          "metadata": {},
          "execution_count": 18
        }
      ]
    },
    {
      "cell_type": "code",
      "source": [],
      "metadata": {
        "id": "CVeIwjNu6BcX"
      },
      "execution_count": null,
      "outputs": []
    },
    {
      "cell_type": "code",
      "source": [],
      "metadata": {
        "id": "3ZDiNAUhiSdw"
      },
      "execution_count": null,
      "outputs": []
    },
    {
      "cell_type": "code",
      "source": [],
      "metadata": {
        "id": "ilTsPXQuiSbY"
      },
      "execution_count": null,
      "outputs": []
    },
    {
      "cell_type": "code",
      "source": [],
      "metadata": {
        "id": "DfmILl0riSXw"
      },
      "execution_count": null,
      "outputs": []
    },
    {
      "cell_type": "code",
      "source": [],
      "metadata": {
        "id": "uekRq8NhQkYQ"
      },
      "execution_count": null,
      "outputs": []
    },
    {
      "cell_type": "code",
      "source": [],
      "metadata": {
        "id": "lNtTHRt_QkUp"
      },
      "execution_count": null,
      "outputs": []
    },
    {
      "cell_type": "code",
      "source": [],
      "metadata": {
        "id": "mbL3fKatQkRr"
      },
      "execution_count": null,
      "outputs": []
    },
    {
      "cell_type": "code",
      "source": [],
      "metadata": {
        "id": "HjJXiJ8oQkPC"
      },
      "execution_count": null,
      "outputs": []
    },
    {
      "cell_type": "code",
      "source": [],
      "metadata": {
        "id": "oHn4d3nlQkKx"
      },
      "execution_count": null,
      "outputs": []
    },
    {
      "cell_type": "code",
      "source": [],
      "metadata": {
        "id": "DZaWAHqrQkFg"
      },
      "execution_count": null,
      "outputs": []
    },
    {
      "cell_type": "code",
      "source": [],
      "metadata": {
        "id": "g_ru6wl1QkBA"
      },
      "execution_count": null,
      "outputs": []
    },
    {
      "cell_type": "code",
      "source": [],
      "metadata": {
        "id": "KcWhjKzKQj95"
      },
      "execution_count": null,
      "outputs": []
    },
    {
      "cell_type": "code",
      "source": [],
      "metadata": {
        "id": "pczUJskOQj5b"
      },
      "execution_count": null,
      "outputs": []
    },
    {
      "cell_type": "code",
      "source": [],
      "metadata": {
        "id": "rgfBQXGDQj16"
      },
      "execution_count": null,
      "outputs": []
    },
    {
      "cell_type": "code",
      "source": [],
      "metadata": {
        "id": "LejYqpgPQnPb"
      },
      "execution_count": null,
      "outputs": []
    },
    {
      "cell_type": "markdown",
      "source": [
        "Quiz 2"
      ],
      "metadata": {
        "id": "vjZaznn5iTMB"
      }
    },
    {
      "cell_type": "code",
      "source": [
        "import numpy as np\n",
        "\n",
        "def compSims(acceleration, time):\n",
        "    n = len(acceleration)\n",
        "\n",
        "    # Initialize velocity array with zeros\n",
        "    v = np.zeros(n)\n",
        "\n",
        "    # Assuming initial velocity is zero\n",
        "    v[0] = 0\n",
        "\n",
        "    # Perform trapezoidal integration\n",
        "    for i in range(1, n):\n",
        "        h = time[i] - time[i-1]  # Time step\n",
        "        v[i] = v[i-1] + 0.5 * h * (acceleration[i-1] + acceleration[i])\n",
        "\n",
        "    return v\n",
        "\n",
        "# Example usage\n",
        "acceleration = np.array([0, 4, 8, 12])  # Example acceleration data\n",
        "time = np.array([50, 85, 90, 95])  # Time points\n",
        "\n",
        "# Compute velocity using trapezoidal rule\n",
        "velocity = compSims(acceleration, time)\n",
        "\n",
        "print(\"Velocity array:\", velocity)\n",
        "\n"
      ],
      "metadata": {
        "colab": {
          "base_uri": "https://localhost:8080/"
        },
        "id": "XXf_Cam1yFy5",
        "outputId": "fff3b064-ce53-4867-cfa5-826b80fff1a0"
      },
      "execution_count": null,
      "outputs": [
        {
          "output_type": "stream",
          "name": "stdout",
          "text": [
            "Velocity array: [  0.  70. 100. 150.]\n"
          ]
        }
      ]
    },
    {
      "cell_type": "code",
      "source": [
        "position = compSims(velocity,time)\n",
        "position"
      ],
      "metadata": {
        "colab": {
          "base_uri": "https://localhost:8080/"
        },
        "id": "KyRJdgJY0O-s",
        "outputId": "e5994726-bb41-4931-e9af-54a1580c41ff"
      },
      "execution_count": null,
      "outputs": [
        {
          "output_type": "execute_result",
          "data": {
            "text/plain": [
              "array([   0., 1225., 1650., 2275.])"
            ]
          },
          "metadata": {},
          "execution_count": 96
        }
      ]
    },
    {
      "cell_type": "code",
      "source": [
        "def hdiff(x, y, yprime):\n",
        "  m = x.size # here m is the number of data points. Note n=m-1 # and 2n+1=2m-1\n",
        "  l = 2*m\n",
        "  z = np.zeros(l)\n",
        "  a = np.zeros(l)\n",
        "  for i in range(m):\n",
        "    z[2*i] = x[i]\n",
        "    z[2*i+1] = x[i]\n",
        "  for i in range(m):\n",
        "    a[2*i] = y[i]\n",
        "    a[2*i+1] = y[i]\n",
        "  for i in np.flip(np.arange(1, m)): # computes the first divided # differences using derivatives\n",
        "    a[2*i+1] = yprime[i]\n",
        "    a[2*i] = (a[2*i]-a[2*i-1]) / (z[2*i]-z[2*i-1])\n",
        "  a[1] = yprime[0]\n",
        "  for j in range(2, l): # computes the rest of the divided differences\n",
        "    for i in np.flip(np.arange(j, l)):\n",
        "      a[i]=(a[i]-a[i-1]) / (z[i]-z[i-j])\n",
        "  return a\n",
        "def hermiteee(x, y, yprime, w):\n",
        "  m = x.size # here m is the number of data points. not the # degree of the polynomial\n",
        "  a = hdiff(x, y, yprime)\n",
        "  z = np.zeros(2*m)\n",
        "  for i in range(m):\n",
        "    z[2*i] = x[i]\n",
        "    z[2*i+1] = x[i]\n",
        "  sum = a[0]\n",
        "  pr = 1.0\n",
        "  for j in range(2*m-1):\n",
        "    pr *= w-z[j]\n",
        "    sum += a[j+1]*pr\n",
        "  return sum\n",
        "simplify(hermiteee(time, position, velocity, x))"
      ],
      "metadata": {
        "colab": {
          "base_uri": "https://localhost:8080/",
          "height": 81
        },
        "id": "nDgOdzT_2Vgd",
        "outputId": "731d1966-f66e-474b-b200-54b97941202b"
      },
      "execution_count": null,
      "outputs": [
        {
          "output_type": "execute_result",
          "data": {
            "text/plain": [
              "                       7                        6                      5                     4     ↪\n",
              "- 2.47256515775034e-6⋅x  + 0.00135943072702332⋅x  - 0.317385631001372⋅x  + 40.7501148834019⋅x  - 3 ↪\n",
              "\n",
              "↪                 3                     2                                        \n",
              "↪ 104.1317922668⋅x  + 140126.626650377⋅x  - 3466926.49498457⋅x + 36231610.2430556"
            ],
            "text/latex": "$\\displaystyle - 2.47256515775034 \\cdot 10^{-6} x^{7} + 0.00135943072702332 x^{6} - 0.317385631001372 x^{5} + 40.7501148834019 x^{4} - 3104.1317922668 x^{3} + 140126.626650377 x^{2} - 3466926.49498457 x + 36231610.2430556$"
          },
          "metadata": {},
          "execution_count": 104
        }
      ]
    },
    {
      "cell_type": "code",
      "source": [
        "def lagrangeBasis(k, xValues):\n",
        "  result = 1\n",
        "  for i in range(len(xValues)):\n",
        "    if i != k:\n",
        "      result = result * (x - xValues[i])/(xValues[k] - xValues[i])\n",
        "  return result\n",
        "def get_polynomial(position_array, power_array, num_points):\n",
        "  #Check if enough points are given\n",
        "  if num_points > len(position_array):\n",
        "    raise ValueError(\"Number of points requested exceeds the number of available data points.\")\n",
        "\n",
        "  basis_polynomials = [lagrangeBasis(i, position_array[:num_points]) for i in range(num_points)]\n",
        "  polynomial = 0\n",
        "  for i in range(num_points):\n",
        "    polynomial += power_array[i] * basis_polynomials[i]\n",
        "  return polynomial"
      ],
      "metadata": {
        "id": "6ov_MQGv3gdf"
      },
      "execution_count": null,
      "outputs": []
    },
    {
      "cell_type": "code",
      "source": [
        "pipeLen = np.array([4,6,8,10])\n",
        "modalFreq = np.array([1324.661,540.744,295.668, 187])"
      ],
      "metadata": {
        "id": "OLqbsKFZrpNS"
      },
      "execution_count": null,
      "outputs": []
    },
    {
      "cell_type": "code",
      "source": [
        "safetyFac = np.array([1.985,1.994, 1.954, 2.03, 2.141])\n",
        "filletLen = np.array([4,4.1,4.2,5,6])"
      ],
      "metadata": {
        "id": "RgCJihNHrwjT"
      },
      "execution_count": null,
      "outputs": []
    },
    {
      "cell_type": "code",
      "source": [
        "modalPoly = get_polynomial(filletLen,safetyFac, 5)\n",
        "simplifiedModal = simplify(modalPoly)\n",
        "simplifiedModal"
      ],
      "metadata": {
        "colab": {
          "base_uri": "https://localhost:8080/",
          "height": 39
        },
        "id": "RCDJVSJexww9",
        "outputId": "e7bb3252-f009-4b36-b7c9-9339234609bb"
      },
      "execution_count": null,
      "outputs": [
        {
          "output_type": "execute_result",
          "data": {
            "text/plain": [
              "                    4                     3                     2                                  ↪\n",
              "- 1.64239766081872⋅x  + 31.4134795321638⋅x  - 223.167146198834⋅x  + 698.371801169589⋅x - 810.83675 ↪\n",
              "\n",
              "↪        \n",
              "↪ 4385979"
            ],
            "text/latex": "$\\displaystyle - 1.64239766081872 x^{4} + 31.4134795321638 x^{3} - 223.167146198834 x^{2} + 698.371801169589 x - 810.836754385979$"
          },
          "metadata": {},
          "execution_count": 17
        }
      ]
    },
    {
      "cell_type": "code",
      "source": [
        "simplifiedModal.subs(x, 6.)"
      ],
      "metadata": {
        "colab": {
          "base_uri": "https://localhost:8080/",
          "height": 37
        },
        "id": "QDvwY1-Fs60e",
        "outputId": "c0d4e7d3-fdbd-4daf-ccd9-9b6edbe9f25f"
      },
      "execution_count": null,
      "outputs": [
        {
          "output_type": "execute_result",
          "data": {
            "text/plain": [
              "-5.08763157908470"
            ],
            "text/latex": "$\\displaystyle -5.0876315790847$"
          },
          "metadata": {},
          "execution_count": 22
        }
      ]
    },
    {
      "cell_type": "markdown",
      "source": [
        "C - 261.626 Hz (middle C) → L =\n",
        "D - 293.665 Hz → L =\n",
        "E - 329.628 Hz → L =\n",
        "G - 391.995 Hz → L =\n",
        "A - 440.000 Hz →\n",
        "C - 523.251 Hz\n",
        "D - 587.330 Hz\n",
        "E - 659.255 Hz"
      ],
      "metadata": {
        "id": "sILvy-W1yqsb"
      }
    },
    {
      "cell_type": "code",
      "source": [
        "def mueller(f, p0, p1, p2, tol):\n",
        "  for n in range (1,20):\n",
        "    c = f(p2)\n",
        "    b = (((p0-p2)*(f(p1)-f(p2)))/((p1-p2)*(p0-p1))) - (((p1-p2)*(f(p0)-f(p2)))/((p0-p2)*(p0-p1)))\n",
        "    a = (((f(p0)-f(p2)))/((p0-p2)*(p0-p1))) - (((f(p1)-f(p2)))/((p1-p2)*(p0-p1)))\n",
        "    de = complex(b**2-(4*a*c))**0.5\n",
        "    if np.abs(b+de) > np.abs(b-de):\n",
        "      rt = 2*c/(b+de)\n",
        "    if np.abs(b-de) > np.abs(b+de):\n",
        "      rt = 2*c/(b-de)\n",
        "    p = p2 - rt\n",
        "    if f(p) == 0 or np.abs((p-p2)/p)<tol:\n",
        "      print('Value for p is :', p, 'Iteration is: ' ,n,)\n",
        "      return\n",
        "    p0 = p1\n",
        "    p1 = p2\n",
        "    p2 = p\n",
        "    n = n + 1\n",
        "  y = f(p)\n",
        "  print('Does not work, function value is', y)"
      ],
      "metadata": {
        "id": "rdNpURmrx2w6"
      },
      "execution_count": null,
      "outputs": []
    },
    {
      "cell_type": "code",
      "source": [
        "mueller(lambda x: -1.64239766081872*x**4 + 31.4134795321638*x**3-223.167146198834*x**2+698.371801169589*x-810.836754385979, 6,6.5,5.5,1e-4)"
      ],
      "metadata": {
        "colab": {
          "base_uri": "https://localhost:8080/"
        },
        "id": "3EreHeDryjwy",
        "outputId": "a66eaafe-a4cc-4977-a0fb-956d6bb9967f"
      },
      "execution_count": null,
      "outputs": [
        {
          "output_type": "stream",
          "name": "stdout",
          "text": [
            "Value for p is : (5.538162983596026+0j) Iteration is:  2\n"
          ]
        }
      ]
    },
    {
      "cell_type": "code",
      "source": [
        "def secant(f, p0, p1, tol):\n",
        "  for n in range (1,20):\n",
        "    p = p1 - f(p1)*(p1-p0)/(f(p1)-f(p0))\n",
        "    if f(p) == 0 or np.abs((p-p1)/p) < tol:\n",
        "      print('Value for p is :', p, 'Iteration is: ' ,n,)\n",
        "      return\n",
        "    p0 = p1\n",
        "    p1 = p\n",
        "    n=n+1\n",
        "  y = f(p)\n",
        "  print('Does not work, function value is', y)"
      ],
      "metadata": {
        "id": "kBXd_awCzFwX"
      },
      "execution_count": null,
      "outputs": []
    },
    {
      "cell_type": "code",
      "source": [
        "secant(lambda x:8.38402083333333*x**3 - 133.861375*x**2+755.762166666666*x-1230.844 - 261.626, 10,8,1e-4)"
      ],
      "metadata": {
        "colab": {
          "base_uri": "https://localhost:8080/"
        },
        "id": "LPXA34Vyz6Hv",
        "outputId": "0fc38bb3-c438-477d-e368-040153320fd2"
      },
      "execution_count": null,
      "outputs": [
        {
          "output_type": "stream",
          "name": "stdout",
          "text": [
            "Value for p is : 5.274838112306096 Iteration is:  7\n"
          ]
        }
      ]
    },
    {
      "cell_type": "code",
      "source": [],
      "metadata": {
        "id": "12ea1Y2J0Vr-"
      },
      "execution_count": null,
      "outputs": []
    }
  ]
}
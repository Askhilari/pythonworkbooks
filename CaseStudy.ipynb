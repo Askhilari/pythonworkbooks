{
  "nbformat": 4,
  "nbformat_minor": 0,
  "metadata": {
    "colab": {
      "provenance": [],
      "authorship_tag": "ABX9TyNIJ0BNLuZrXNL3Hc4b076T",
      "include_colab_link": true
    },
    "kernelspec": {
      "name": "python3",
      "display_name": "Python 3"
    },
    "language_info": {
      "name": "python"
    }
  },
  "cells": [
    {
      "cell_type": "markdown",
      "metadata": {
        "id": "view-in-github",
        "colab_type": "text"
      },
      "source": [
        "<a href=\"https://colab.research.google.com/github/Askhilari/pythonworkbooks/blob/main/CaseStudy.ipynb\" target=\"_parent\"><img src=\"https://colab.research.google.com/assets/colab-badge.svg\" alt=\"Open In Colab\"/></a>"
      ]
    },
    {
      "cell_type": "code",
      "execution_count": null,
      "metadata": {
        "id": "zQtMrnO2mWrY"
      },
      "outputs": [],
      "source": [
        "import numpy as np\n",
        "from sympy import *\n",
        "import pandas as pd\n",
        "import matplotlib.pyplot as plt\n",
        "import math\n",
        "x, y, z, t, w = symbols('x y z t w')\n",
        "init_printing(use_unicode=True)"
      ]
    },
    {
      "cell_type": "code",
      "source": [
        "from google.colab import files\n",
        "uploaded = files.upload()\n"
      ],
      "metadata": {
        "colab": {
          "base_uri": "https://localhost:8080/",
          "height": 90
        },
        "id": "p_Eze3ofqSCf",
        "outputId": "94cecb79-dcee-4580-e6d6-07c563859f2c"
      },
      "execution_count": null,
      "outputs": [
        {
          "output_type": "display_data",
          "data": {
            "text/plain": [
              "<IPython.core.display.HTML object>"
            ],
            "text/html": [
              "\n",
              "     <input type=\"file\" id=\"files-1161021a-d87e-4a03-a1b8-b4c9035c3a28\" name=\"files[]\" multiple disabled\n",
              "        style=\"border:none\" />\n",
              "     <output id=\"result-1161021a-d87e-4a03-a1b8-b4c9035c3a28\">\n",
              "      Upload widget is only available when the cell has been executed in the\n",
              "      current browser session. Please rerun this cell to enable.\n",
              "      </output>\n",
              "      <script>// Copyright 2017 Google LLC\n",
              "//\n",
              "// Licensed under the Apache License, Version 2.0 (the \"License\");\n",
              "// you may not use this file except in compliance with the License.\n",
              "// You may obtain a copy of the License at\n",
              "//\n",
              "//      http://www.apache.org/licenses/LICENSE-2.0\n",
              "//\n",
              "// Unless required by applicable law or agreed to in writing, software\n",
              "// distributed under the License is distributed on an \"AS IS\" BASIS,\n",
              "// WITHOUT WARRANTIES OR CONDITIONS OF ANY KIND, either express or implied.\n",
              "// See the License for the specific language governing permissions and\n",
              "// limitations under the License.\n",
              "\n",
              "/**\n",
              " * @fileoverview Helpers for google.colab Python module.\n",
              " */\n",
              "(function(scope) {\n",
              "function span(text, styleAttributes = {}) {\n",
              "  const element = document.createElement('span');\n",
              "  element.textContent = text;\n",
              "  for (const key of Object.keys(styleAttributes)) {\n",
              "    element.style[key] = styleAttributes[key];\n",
              "  }\n",
              "  return element;\n",
              "}\n",
              "\n",
              "// Max number of bytes which will be uploaded at a time.\n",
              "const MAX_PAYLOAD_SIZE = 100 * 1024;\n",
              "\n",
              "function _uploadFiles(inputId, outputId) {\n",
              "  const steps = uploadFilesStep(inputId, outputId);\n",
              "  const outputElement = document.getElementById(outputId);\n",
              "  // Cache steps on the outputElement to make it available for the next call\n",
              "  // to uploadFilesContinue from Python.\n",
              "  outputElement.steps = steps;\n",
              "\n",
              "  return _uploadFilesContinue(outputId);\n",
              "}\n",
              "\n",
              "// This is roughly an async generator (not supported in the browser yet),\n",
              "// where there are multiple asynchronous steps and the Python side is going\n",
              "// to poll for completion of each step.\n",
              "// This uses a Promise to block the python side on completion of each step,\n",
              "// then passes the result of the previous step as the input to the next step.\n",
              "function _uploadFilesContinue(outputId) {\n",
              "  const outputElement = document.getElementById(outputId);\n",
              "  const steps = outputElement.steps;\n",
              "\n",
              "  const next = steps.next(outputElement.lastPromiseValue);\n",
              "  return Promise.resolve(next.value.promise).then((value) => {\n",
              "    // Cache the last promise value to make it available to the next\n",
              "    // step of the generator.\n",
              "    outputElement.lastPromiseValue = value;\n",
              "    return next.value.response;\n",
              "  });\n",
              "}\n",
              "\n",
              "/**\n",
              " * Generator function which is called between each async step of the upload\n",
              " * process.\n",
              " * @param {string} inputId Element ID of the input file picker element.\n",
              " * @param {string} outputId Element ID of the output display.\n",
              " * @return {!Iterable<!Object>} Iterable of next steps.\n",
              " */\n",
              "function* uploadFilesStep(inputId, outputId) {\n",
              "  const inputElement = document.getElementById(inputId);\n",
              "  inputElement.disabled = false;\n",
              "\n",
              "  const outputElement = document.getElementById(outputId);\n",
              "  outputElement.innerHTML = '';\n",
              "\n",
              "  const pickedPromise = new Promise((resolve) => {\n",
              "    inputElement.addEventListener('change', (e) => {\n",
              "      resolve(e.target.files);\n",
              "    });\n",
              "  });\n",
              "\n",
              "  const cancel = document.createElement('button');\n",
              "  inputElement.parentElement.appendChild(cancel);\n",
              "  cancel.textContent = 'Cancel upload';\n",
              "  const cancelPromise = new Promise((resolve) => {\n",
              "    cancel.onclick = () => {\n",
              "      resolve(null);\n",
              "    };\n",
              "  });\n",
              "\n",
              "  // Wait for the user to pick the files.\n",
              "  const files = yield {\n",
              "    promise: Promise.race([pickedPromise, cancelPromise]),\n",
              "    response: {\n",
              "      action: 'starting',\n",
              "    }\n",
              "  };\n",
              "\n",
              "  cancel.remove();\n",
              "\n",
              "  // Disable the input element since further picks are not allowed.\n",
              "  inputElement.disabled = true;\n",
              "\n",
              "  if (!files) {\n",
              "    return {\n",
              "      response: {\n",
              "        action: 'complete',\n",
              "      }\n",
              "    };\n",
              "  }\n",
              "\n",
              "  for (const file of files) {\n",
              "    const li = document.createElement('li');\n",
              "    li.append(span(file.name, {fontWeight: 'bold'}));\n",
              "    li.append(span(\n",
              "        `(${file.type || 'n/a'}) - ${file.size} bytes, ` +\n",
              "        `last modified: ${\n",
              "            file.lastModifiedDate ? file.lastModifiedDate.toLocaleDateString() :\n",
              "                                    'n/a'} - `));\n",
              "    const percent = span('0% done');\n",
              "    li.appendChild(percent);\n",
              "\n",
              "    outputElement.appendChild(li);\n",
              "\n",
              "    const fileDataPromise = new Promise((resolve) => {\n",
              "      const reader = new FileReader();\n",
              "      reader.onload = (e) => {\n",
              "        resolve(e.target.result);\n",
              "      };\n",
              "      reader.readAsArrayBuffer(file);\n",
              "    });\n",
              "    // Wait for the data to be ready.\n",
              "    let fileData = yield {\n",
              "      promise: fileDataPromise,\n",
              "      response: {\n",
              "        action: 'continue',\n",
              "      }\n",
              "    };\n",
              "\n",
              "    // Use a chunked sending to avoid message size limits. See b/62115660.\n",
              "    let position = 0;\n",
              "    do {\n",
              "      const length = Math.min(fileData.byteLength - position, MAX_PAYLOAD_SIZE);\n",
              "      const chunk = new Uint8Array(fileData, position, length);\n",
              "      position += length;\n",
              "\n",
              "      const base64 = btoa(String.fromCharCode.apply(null, chunk));\n",
              "      yield {\n",
              "        response: {\n",
              "          action: 'append',\n",
              "          file: file.name,\n",
              "          data: base64,\n",
              "        },\n",
              "      };\n",
              "\n",
              "      let percentDone = fileData.byteLength === 0 ?\n",
              "          100 :\n",
              "          Math.round((position / fileData.byteLength) * 100);\n",
              "      percent.textContent = `${percentDone}% done`;\n",
              "\n",
              "    } while (position < fileData.byteLength);\n",
              "  }\n",
              "\n",
              "  // All done.\n",
              "  yield {\n",
              "    response: {\n",
              "      action: 'complete',\n",
              "    }\n",
              "  };\n",
              "}\n",
              "\n",
              "scope.google = scope.google || {};\n",
              "scope.google.colab = scope.google.colab || {};\n",
              "scope.google.colab._files = {\n",
              "  _uploadFiles,\n",
              "  _uploadFilesContinue,\n",
              "};\n",
              "})(self);\n",
              "</script> "
            ]
          },
          "metadata": {}
        },
        {
          "output_type": "stream",
          "name": "stdout",
          "text": [
            "Saving kinfedgeFixed.xlsx to kinfedgeFixed.xlsx\n"
          ]
        }
      ]
    },
    {
      "cell_type": "code",
      "source": [
        "df = pd.read_excel('kinfedgeFixed.xlsx')"
      ],
      "metadata": {
        "id": "VkShKsPXrRMq"
      },
      "execution_count": null,
      "outputs": []
    },
    {
      "cell_type": "code",
      "source": [
        "new_df = df.iloc[:, :2].copy()\n",
        "new_df.columns = ['x', 'Power']\n"
      ],
      "metadata": {
        "id": "y0MnlpTgrrYz"
      },
      "execution_count": null,
      "outputs": []
    },
    {
      "cell_type": "code",
      "source": [
        "new_df2 = df.iloc[:, [3,4]].copy()\n",
        "new_df2.to_csv('new_data_file.csv', index=False)"
      ],
      "metadata": {
        "id": "0Oz4L7-AAWlF"
      },
      "execution_count": null,
      "outputs": []
    },
    {
      "cell_type": "code",
      "source": [
        "dfw2 = df.iloc[:, [3,4]].copy()\n",
        "dfw2.columns = ['x', 'Power2']"
      ],
      "metadata": {
        "id": "zRP4g26JANpX"
      },
      "execution_count": null,
      "outputs": []
    },
    {
      "cell_type": "code",
      "source": [
        "new_df.iloc[3:,:].plot(x='x', y='Power')\n",
        "plt.show()"
      ],
      "metadata": {
        "colab": {
          "base_uri": "https://localhost:8080/",
          "height": 449
        },
        "id": "7-ZzS0-32gc3",
        "outputId": "ff0786b6-007b-4332-e951-7d7b0e6a619a"
      },
      "execution_count": null,
      "outputs": [
        {
          "output_type": "display_data",
          "data": {
            "text/plain": [
              "<Figure size 640x480 with 1 Axes>"
            ],
            "image/png": "[encoded data removed]"
          },
          "metadata": {}
        }
      ]
    },
    {
      "cell_type": "code",
      "source": [
        "position_array = new_df['x'].values\n",
        "power_array = new_df['Power'].values\n",
        "power_array"
      ],
      "metadata": {
        "colab": {
          "base_uri": "https://localhost:8080/"
        },
        "id": "Rvf_OoTKtWAE",
        "outputId": "da947ef4-ce3d-4cff-c96c-0fe2064bdece"
      },
      "execution_count": null,
      "outputs": [
        {
          "output_type": "execute_result",
          "data": {
            "text/plain": [
              "array([4.05027e-07, 4.50555e-06, 3.96769e-05, 2.77142e-04, 1.53941e-03,\n",
              "       6.82271e-03, 2.42380e-02, 6.94528e-02, 1.61923e-01, 3.10903e-01,\n",
              "       5.00000e-01, 6.89097e-01, 8.38077e-01, 9.30547e-01, 9.75762e-01,\n",
              "       9.93177e-01, 9.98461e-01, 9.99723e-01, 9.99960e-01, 9.99995e-01,\n",
              "       1.00000e+00])"
            ]
          },
          "metadata": {},
          "execution_count": 118
        }
      ]
    },
    {
      "cell_type": "code",
      "source": [
        "position_array[:13]"
      ],
      "metadata": {
        "colab": {
          "base_uri": "https://localhost:8080/"
        },
        "id": "T5SnucyD1---",
        "outputId": "2abc55c8-cff1-432a-9b48-cfcd8c39e056"
      },
      "execution_count": null,
      "outputs": [
        {
          "output_type": "execute_result",
          "data": {
            "text/plain": [
              "array([0.    , 0.0002, 0.0004, 0.0006, 0.0008, 0.001 , 0.0012, 0.0014,\n",
              "       0.0016, 0.0018, 0.002 , 0.0022, 0.0024])"
            ]
          },
          "metadata": {},
          "execution_count": 99
        }
      ]
    },
    {
      "cell_type": "code",
      "source": [
        "positionw2_array = dfw2['x'].values\n",
        "powerw2_array = dfw2['Power2'].values\n",
        "positionw2_array.size"
      ],
      "metadata": {
        "colab": {
          "base_uri": "https://localhost:8080/",
          "height": 37
        },
        "id": "EVIBYvovAyDa",
        "outputId": "2f33c352-16cc-4090-e183-757d6cfb2493"
      },
      "execution_count": null,
      "outputs": [
        {
          "output_type": "execute_result",
          "data": {
            "text/plain": [
              "21"
            ],
            "text/latex": "$\\displaystyle 21$"
          },
          "metadata": {},
          "execution_count": 152
        }
      ]
    },
    {
      "cell_type": "code",
      "source": [
        "def lagrangeBasis(k, xValues):\n",
        "  result = 1\n",
        "  for i in range(len(xValues)):\n",
        "    if i != k:\n",
        "      result = result * (x - xValues[i])/(xValues[k] - xValues[i])\n",
        "  return result"
      ],
      "metadata": {
        "id": "pgXqqzGwuAnd"
      },
      "execution_count": null,
      "outputs": []
    },
    {
      "cell_type": "code",
      "source": [
        "l10 = lagrangeBasis(0, position_array[:13])\n",
        "l11 = lagrangeBasis(1, position_array[:13])\n",
        "l12 = lagrangeBasis(2, position_array[:13])\n",
        "l13 = lagrangeBasis(3, position_array[:13])\n",
        "l14 = lagrangeBasis(4, position_array[:13])\n",
        "l15 = lagrangeBasis(5, position_array[:13])\n",
        "l16 = lagrangeBasis(5, position_array[:13])\n",
        "l17 = lagrangeBasis(5, position_array[:13])\n",
        "l18 = lagrangeBasis(5, position_array[:13])\n",
        "l19 = lagrangeBasis(5, position_array[:13])\n",
        "l20 = lagrangeBasis(5, position_array[:13])\n",
        "l21 = lagrangeBasis(5, position_array[:13])\n",
        "l22 = lagrangeBasis(5, position_array[:13])\n"
      ],
      "metadata": {
        "id": "-CS26ArsvGaz"
      },
      "execution_count": null,
      "outputs": []
    },
    {
      "cell_type": "code",
      "source": [
        "pol = 4.05027*10e-7*l10+4.50555*10e-6*l11+power_array[2]*l12+power_array[3]*l13+power_array[4]*l14+power_array[5]*l15+power_array[6]*l16+power_array[7]*l17+power_array[8]*l18+power_array[9]*l19+power_array[10]*l20+power_array[11]*l21+power_array[12]*l22"
      ],
      "metadata": {
        "id": "LqVZBgwqxCR3"
      },
      "execution_count": null,
      "outputs": []
    },
    {
      "cell_type": "code",
      "source": [
        "def get_polynomial(position_array, power_array, num_points):\n",
        "  #Check if enough points are given\n",
        "  if num_points > len(position_array):\n",
        "    raise ValueError(\"Number of points requested exceeds the number of available data points.\")\n",
        "\n",
        "  basis_polynomials = [lagrangeBasis(i, position_array[:num_points]) for i in range(num_points)]\n",
        "  polynomial = 0\n",
        "  for i in range(num_points):\n",
        "    polynomial += power_array[i] * basis_polynomials[i]\n",
        "  return polynomial"
      ],
      "metadata": {
        "id": "9K1x12ne4t8f"
      },
      "execution_count": null,
      "outputs": []
    },
    {
      "cell_type": "code",
      "source": [
        "polynomia = get_polynomial(position_array, power_array, 21)"
      ],
      "metadata": {
        "id": "0PhDWWk61Nf3"
      },
      "execution_count": null,
      "outputs": []
    },
    {
      "cell_type": "code",
      "source": [
        "polynomiaw2 = get_polynomial(positionw2_array, powerw2_array, 21)"
      ],
      "metadata": {
        "id": "RzRpIKirBA-j"
      },
      "execution_count": null,
      "outputs": []
    },
    {
      "cell_type": "code",
      "source": [
        "x_values = np.linspace(min(position_array), max(position_array), 400)  # Generate x values for plotting\n",
        "y_values = []\n",
        "for x_val in x_values:\n",
        "    y_values.append(polynomia.subs(x, x_val))\n",
        "\n",
        "plt.plot(x_values, y_values, label='Lagrange Polynomial')\n",
        "plt.plot(position_array[:21], power_array[:21], 'ro', label='Original Data Points')\n",
        "plt.xlabel('Position')\n",
        "plt.ylabel('Power')\n",
        "plt.title('Lagrange Polynomial Interpolation')\n",
        "plt.legend()\n",
        "plt.grid(True)\n",
        "plt.show()"
      ],
      "metadata": {
        "colab": {
          "base_uri": "https://localhost:8080/",
          "height": 472
        },
        "id": "dLpsO1V_6Dxe",
        "outputId": "4b440d8e-9219-4a78-9b28-197d63eca080"
      },
      "execution_count": null,
      "outputs": [
        {
          "output_type": "display_data",
          "data": {
            "text/plain": [
              "<Figure size 640x480 with 1 Axes>"
            ],
            "image/png": "[encoded data removed]"
          },
          "metadata": {}
        }
      ]
    },
    {
      "cell_type": "code",
      "source": [
        "filtered_predictions = [pred for pred in predictionHalfPos if pred.is_real and 0.0017 <= pred <= 0.0023]\n",
        "filtered_predictions"
      ],
      "metadata": {
        "colab": {
          "base_uri": "https://localhost:8080/",
          "height": 37
        },
        "id": "VzR82lq-4ABm",
        "outputId": "b4d5495c-5cb7-43aa-9a13-dcce506852b3"
      },
      "execution_count": null,
      "outputs": [
        {
          "output_type": "execute_result",
          "data": {
            "text/plain": [
              "[0.00183903229174034, 0.0019818802796893, 0.00220338994445722]"
            ],
            "text/latex": "$\\displaystyle \\left[ 0.00183903229174034, \\  0.0019818802796893, \\  0.00220338994445722\\right]$"
          },
          "metadata": {},
          "execution_count": 89
        }
      ]
    },
    {
      "cell_type": "code",
      "source": [
        "solve(polynomia-(1/(2*exp(2))),x)"
      ],
      "metadata": {
        "colab": {
          "base_uri": "https://localhost:8080/",
          "height": 37
        },
        "id": "zfWJwMg_xcFT",
        "outputId": "23f409b1-7461-4d69-ccc7-6c81daf8c456"
      },
      "execution_count": null,
      "outputs": [
        {
          "output_type": "execute_result",
          "data": {
            "text/plain": [
              "[]"
            ],
            "text/latex": "$\\displaystyle \\left[ \\right]$"
          },
          "metadata": {},
          "execution_count": 121
        }
      ]
    },
    {
      "cell_type": "code",
      "source": [
        "updatedPoly = polynomia.subs(x,t) - (1/(2*exp(2)))"
      ],
      "metadata": {
        "id": "LietXyKa9GXo"
      },
      "execution_count": null,
      "outputs": []
    },
    {
      "cell_type": "code",
      "source": [
        "def secant(f, p0, p1, tol):\n",
        "  for n in range (1,20):\n",
        "    p = p1 - f(p1)*(p1-p0)/(f(p1)-f(p0))\n",
        "    if f(p) == 0 or np.abs((p-p1)/p) < tol:\n",
        "      print('Value for p is :', p, 'Iteration is: ' ,n,)\n",
        "      return\n",
        "    p0 = p1\n",
        "    p1 = p\n",
        "    n=n+1\n",
        "  y = f(p)\n",
        "  print('Does not work, function value is', y)"
      ],
      "metadata": {
        "id": "czO73kR81hXB"
      },
      "execution_count": null,
      "outputs": []
    },
    {
      "cell_type": "code",
      "source": [
        "secant(lambda t: polynomia.subs(x,t)-1/2,0.0018, 0.0022, 0.005)"
      ],
      "metadata": {
        "colab": {
          "base_uri": "https://localhost:8080/"
        },
        "id": "lqx_w47a8TqJ",
        "outputId": "e11edaea-f3bf-48f8-96c3-8066a149b689"
      },
      "execution_count": null,
      "outputs": [
        {
          "output_type": "stream",
          "name": "stdout",
          "text": [
            "Value for p is : 0.00200000000000000 Iteration is:  2\n"
          ]
        }
      ]
    },
    {
      "cell_type": "code",
      "source": [
        "secant(lambda t: polynomia.subs(x,t)-(1-0.0676676),0.002, .003, 0.005)"
      ],
      "metadata": {
        "colab": {
          "base_uri": "https://localhost:8080/"
        },
        "id": "APCh4tgB87lo",
        "outputId": "c705c721-3ec8-42c7-c52c-4d64101676a9"
      },
      "execution_count": null,
      "outputs": [
        {
          "output_type": "stream",
          "name": "stdout",
          "text": [
            "Value for p is : 0.00260596488948981 Iteration is:  7\n"
          ]
        }
      ]
    },
    {
      "cell_type": "code",
      "source": [
        "w1 = 0.00260596488948981 - 0.00200000000000000\n",
        "w1"
      ],
      "metadata": {
        "colab": {
          "base_uri": "https://localhost:8080/",
          "height": 37
        },
        "id": "VMpK4hZh-j5V",
        "outputId": "dba1d6b8-0f83-4a4c-e9df-c7c482770f08"
      },
      "execution_count": null,
      "outputs": [
        {
          "output_type": "execute_result",
          "data": {
            "text/plain": [
              "0.00060596488948981"
            ],
            "text/latex": "$\\displaystyle 0.00060596488948981$"
          },
          "metadata": {},
          "execution_count": 156
        }
      ]
    },
    {
      "cell_type": "code",
      "source": [
        "secant(lambda t: polynomiaw2.subs(x,t)-1/2,0.0008, 0.0012, 0.005)"
      ],
      "metadata": {
        "colab": {
          "base_uri": "https://localhost:8080/"
        },
        "id": "21Z3LgoQ_ZLG",
        "outputId": "ee31d346-b4f4-4a5c-c8ab-4c0070b25415"
      },
      "execution_count": null,
      "outputs": [
        {
          "output_type": "stream",
          "name": "stdout",
          "text": [
            "Value for p is : 0.00100000000000000 Iteration is:  2\n"
          ]
        }
      ]
    },
    {
      "cell_type": "code",
      "source": [
        "secant(lambda t: polynomiaw2.subs(x,t)-(1-0.0676676),0.0011, .0015, 0.0005)"
      ],
      "metadata": {
        "colab": {
          "base_uri": "https://localhost:8080/"
        },
        "id": "17KA2cLrB5N_",
        "outputId": "22d7cf5e-ab23-4898-fb5d-b5b3edb2b7e3"
      },
      "execution_count": null,
      "outputs": [
        {
          "output_type": "stream",
          "name": "stdout",
          "text": [
            "Value for p is : 0.00123738028801892 Iteration is:  8\n"
          ]
        }
      ]
    },
    {
      "cell_type": "code",
      "source": [
        "w2 = 0.00123738028801892 - 0.00100000000000000\n",
        "w2"
      ],
      "metadata": {
        "colab": {
          "base_uri": "https://localhost:8080/",
          "height": 37
        },
        "id": "9To5O-KUCBHL",
        "outputId": "cf9de9cf-bcb0-4742-b44e-2182739cf900"
      },
      "execution_count": null,
      "outputs": [
        {
          "output_type": "execute_result",
          "data": {
            "text/plain": [
              "0.00023738028801892005"
            ],
            "text/latex": "$\\displaystyle 0.00023738028801892$"
          },
          "metadata": {},
          "execution_count": 166
        }
      ]
    },
    {
      "cell_type": "code",
      "source": [
        "z1 = 0.5\n",
        "z2 = 0.25\n",
        "pii = math.pi"
      ],
      "metadata": {
        "id": "DwTuVu56Cv4j"
      },
      "execution_count": null,
      "outputs": []
    },
    {
      "cell_type": "code",
      "source": [
        "(z2-z1)+(pii*((-x**4+x**2*w1**2)**(1/2)-(-x**4+x**2*w2**2)**(1/2)))/(6.32e-7)"
      ],
      "metadata": {
        "colab": {
          "base_uri": "https://localhost:8080/",
          "height": 66
        },
        "id": "pf8OxRtSDUlT",
        "outputId": "b63c6e35-352f-47fb-e427-8718582ab957"
      },
      "execution_count": null,
      "outputs": [
        {
          "output_type": "execute_result",
          "data": {
            "text/plain": [
              "                                                  0.5                                              ↪\n",
              "                   ⎛   4                        2⎞                       ⎛   4                     ↪\n",
              "- 4970874.45188258⋅⎝- x  + 5.63494011399454e-8⋅x ⎠    + 4970874.45188258⋅⎝- x  + 3.67193447294398e ↪\n",
              "\n",
              "↪       0.5       \n",
              "↪     2⎞          \n",
              "↪ -7⋅x ⎠    - 0.25"
            ],
            "text/latex": "$\\displaystyle - 4970874.45188258 \\left(- x^{4} + 5.63494011399454 \\cdot 10^{-8} x^{2}\\right)^{0.5} + 4970874.45188258 \\left(- x^{4} + 3.67193447294398 \\cdot 10^{-7} x^{2}\\right)^{0.5} - 0.25$"
          },
          "metadata": {},
          "execution_count": 171
        }
      ]
    },
    {
      "cell_type": "code",
      "source": [],
      "metadata": {
        "id": "oU9gXXaeGjfK"
      },
      "execution_count": null,
      "outputs": []
    },
    {
      "cell_type": "code",
      "source": [
        "secant(lambda x:(z2-z1)+(pii*((-x**4+x**2*w1**2)**(1/2)-(-x**4+x**2*w2**2)**(1/2)))/(6.32e-7), 1e-4,1.8e-4,5e-5)"
      ],
      "metadata": {
        "colab": {
          "base_uri": "https://localhost:8080/"
        },
        "id": "OKnECXtWE4ZR",
        "outputId": "76f8c700-96ac-44ed-d35b-4750ee5db232"
      },
      "execution_count": null,
      "outputs": [
        {
          "output_type": "stream",
          "name": "stdout",
          "text": [
            "Value for p is : 0.00012815343091495207 Iteration is:  4\n"
          ]
        }
      ]
    },
    {
      "cell_type": "code",
      "source": [
        "w0 = 0.00012815343091495207"
      ],
      "metadata": {
        "id": "E87bD4nwGJE7"
      },
      "execution_count": null,
      "outputs": []
    },
    {
      "cell_type": "code",
      "source": [
        "z0 = z1-(abs(1-(w1/w0)**2)*(pii*w0**2/6.32e-7)**2)**(1/2)\n",
        "z0"
      ],
      "metadata": {
        "colab": {
          "base_uri": "https://localhost:8080/",
          "height": 37
        },
        "id": "OFug8jmsHLj4",
        "outputId": "28a1b6c2-bc15-4c08-913c-f50064ce85a8"
      },
      "execution_count": null,
      "outputs": [
        {
          "output_type": "execute_result",
          "data": {
            "text/plain": [
              "0.12271082622238999"
            ],
            "text/latex": "$\\displaystyle 0.12271082622239$"
          },
          "metadata": {},
          "execution_count": 190
        }
      ]
    },
    {
      "cell_type": "markdown",
      "source": [
        "Personal Case Study: Black-Scholes Model with secant"
      ],
      "metadata": {
        "id": "92HSTafoN4sz"
      }
    },
    {
      "cell_type": "code",
      "source": [
        "S = 1667.30\n",
        "K = 1670\n",
        "r = 0.062\n",
        "T = 21/247"
      ],
      "metadata": {
        "id": "Wd6ku7EON-1C"
      },
      "execution_count": null,
      "outputs": []
    },
    {
      "cell_type": "code",
      "source": [
        "from scipy import stats"
      ],
      "metadata": {
        "id": "33aSWF1ii5nB"
      },
      "execution_count": null,
      "outputs": []
    },
    {
      "cell_type": "code",
      "source": [
        "stdNorm = stats.norm(loc = 0, scale = 1)\n",
        "phi = lambda a: stdNorm.cdf(a)"
      ],
      "metadata": {
        "id": "5C1myoAKi_fE"
      },
      "execution_count": null,
      "outputs": []
    },
    {
      "cell_type": "code",
      "source": [
        "def c(x_val):\n",
        "  d1 = (np.log(S/K)+(r+(x_val**2)/2)*T)/(x_val*np.sqrt(T))\n",
        "  d2 = d1-x_val*np.sqrt(T)\n",
        "  return S*phi(d1)-K*np.exp(-r*T)*phi(d2)"
      ],
      "metadata": {
        "id": "93pe20uujN2M"
      },
      "execution_count": null,
      "outputs": []
    },
    {
      "cell_type": "code",
      "source": [
        "secant(lambda v: c(v)-36.8,0.3,4,1e-4)"
      ],
      "metadata": {
        "colab": {
          "base_uri": "https://localhost:8080/"
        },
        "id": "gy4E-7NHjnhe",
        "outputId": "d47ad5dd-083b-48b0-d411-7347db259cac"
      },
      "execution_count": null,
      "outputs": [
        {
          "output_type": "stream",
          "name": "stdout",
          "text": [
            "Value for p is : 0.1739535774479604 Iteration is:  4\n"
          ]
        }
      ]
    },
    {
      "cell_type": "code",
      "source": [],
      "metadata": {
        "id": "IkiA0Urrj-Tw"
      },
      "execution_count": null,
      "outputs": []
    }
  ]
}
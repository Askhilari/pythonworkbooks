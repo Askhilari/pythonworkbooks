{
  "nbformat": 4,
  "nbformat_minor": 0,
  "metadata": {
    "colab": {
      "provenance": [],
      "authorship_tag": "ABX9TyN9MgB7aW0Y03ExvtozxXhU",
      "include_colab_link": true
    },
    "kernelspec": {
      "name": "python3",
      "display_name": "Python 3"
    },
    "language_info": {
      "name": "python"
    }
  },
  "cells": [
    {
      "cell_type": "markdown",
      "metadata": {
        "id": "view-in-github",
        "colab_type": "text"
      },
      "source": [
        "<a href=\"https://colab.research.google.com/github/Askhilari/pythonworkbooks/blob/main/Problem_solving_with_numerical_analysis.ipynb\" target=\"_parent\"><img src=\"https://colab.research.google.com/assets/colab-badge.svg\" alt=\"Open In Colab\"/></a>"
      ]
    },
    {
      "cell_type": "code",
      "execution_count": null,
      "metadata": {
        "id": "glBNugzCnoCC"
      },
      "outputs": [],
      "source": [
        "import numpy as np\n",
        "import math\n",
        "from sympy import *\n",
        "import matplotlib.pyplot as plt\n",
        "import sympy as sp\n",
        "x, y, z, t, w = symbols('x y z t w')\n",
        "init_printing(use_unicode=True)\n",
        "%matplotlib inline"
      ]
    },
    {
      "cell_type": "markdown",
      "source": [
        "**Homework 1**"
      ],
      "metadata": {
        "id": "ejs3UnRT4zVH"
      }
    },
    {
      "cell_type": "markdown",
      "source": [
        "1a"
      ],
      "metadata": {
        "id": "qhkDYFm8Fa2U"
      }
    },
    {
      "cell_type": "code",
      "source": [
        "pii = math.pi\n",
        "abserra = pii/100 - 3.1/100\n",
        "mirr = abserra * 3.84*10**8\n",
        "print('1a) Smallest mirror with 2 decimal chopping is: ',mirr,'m')\n",
        "abserrb = pii/100 - 3.14/100\n",
        "mirrb = abserrb * 3.84*10**8\n",
        "print('1b) Smallest mirror with 3 digit rounding is: ',mirrb,'m')\n",
        "thetaRads = 10**(-3)/(3.84*10**8)\n",
        "abserrc = pii/100-3.1415926535/100\n",
        "print('1c)',abserrc*3.84*10**8, 'This gives error within 1mm, so we will need 10 digit chopping')"
      ],
      "metadata": {
        "id": "c_Et8XekDVkG",
        "colab": {
          "base_uri": "https://localhost:8080/"
        },
        "outputId": "4b255066-242c-462d-e1f0-33136ec2502d"
      },
      "execution_count": null,
      "outputs": [
        {
          "output_type": "stream",
          "name": "stdout",
          "text": [
            "1a) Smallest mirror with 2 decimal chopping is:  159715.7897848067 m\n",
            "1b) Smallest mirror with 3 digit rounding is:  6115.7897848049815 m\n",
            "1c) 0.0003448068497391432 This gives error within 1mm, so we will need 10 digit chopping\n"
          ]
        }
      ]
    },
    {
      "cell_type": "markdown",
      "source": [
        "1d. Assmptions:\n",
        "1. The Laser we use is coherent all the wy to moon\n",
        "2. There is no deviation from atmosphere and nothing interferes\n",
        "3. Moon is flat like mirror"
      ],
      "metadata": {
        "id": "Qonw8h8lLc4M"
      }
    },
    {
      "cell_type": "markdown",
      "source": [
        "Problem 2"
      ],
      "metadata": {
        "id": "Ju-HN6qkLluV"
      }
    },
    {
      "cell_type": "code",
      "source": [
        "func = (sp.exp(x) - sp.exp(-x))/(x)\n",
        "limits = limit(func, x,0)\n",
        "print('2a) Limit of function is: ',limits)\n",
        "funcupd = (1.11-0.905)/(0.1)\n",
        "print('2b) With 3 digit chopping and rounding we get',funcupd,'= 2.05')\n",
        "relativeErrorinB = abs(2.003335000 - 2.05)/2.003335000\n",
        "print(1.10-.904, 'chopping gives:', .196/.1, 'this is the error for chopping:', abs(2.003335000-1.96)/2.003335000)\n",
        "valueofFunc = ((1+0.1+(0.01)/2+(0.001)/6)-(1-0.1+(0.01)/2-(0.001)/6))/0.1\n",
        "print('2c) Replacing each exponential with 3 degree polynomial gives: ', valueofFunc)\n",
        "relativeErrorinC = (2.003335000 - 2.00)/2.003335000\n",
        "print('2d) Relative error in 2b is: ',relativeErrorinB, 'and relative error in 2c is: ', relativeErrorinC)"
      ],
      "metadata": {
        "colab": {
          "base_uri": "https://localhost:8080/"
        },
        "id": "eY8qsQpEMJ5Y",
        "outputId": "22a795b6-53e5-41f1-8aea-c474e9d910f3"
      },
      "execution_count": null,
      "outputs": [
        {
          "output_type": "stream",
          "name": "stdout",
          "text": [
            "2a) Limit of function is:  2\n",
            "2b) With 3 digit chopping and rounding we get 2.0500000000000007 = 2.05\n",
            "0.19600000000000006 chopping gives: 1.96 this is the error for chopping: 0.021631429591156697\n",
            "2c) Replacing each exponential with 3 degree polynomial gives:  2.0033333333333325\n",
            "2d) Relative error in 2b is:  0.023293657825575832 and relative error in 2c is:  0.0016647240726088577\n"
          ]
        }
      ]
    },
    {
      "cell_type": "markdown",
      "source": [
        "Problem 3"
      ],
      "metadata": {
        "id": "EKZ0rZm6hLaw"
      }
    },
    {
      "cell_type": "code",
      "source": [
        "def chop_decimal(number, decimal_places):\n",
        "  factor = 10**decimal_places\n",
        "  return int(number * factor) / factor\n",
        "def sumFirst(startVal, endVal):\n",
        "    sum = 0\n",
        "    for i in range(startVal, endVal+1):\n",
        "        sum += chop_decimal(1/(i**2),2)\n",
        "    return sum\n",
        "def sum11First(startVal, endVal):\n",
        "    sum = 0\n",
        "    for i in range(startVal, endVal+1):\n",
        "        sum += chop_decimal(1/(11-i)**2,3)\n",
        "        sum\n",
        "    return sum\n",
        "print('3a) Sum of 1/i^2 is: ',chop_decimal(sumFirst(1,10),2),'and sum of 1/(11-i)^2 is: ',chop_decimal(sum11First(1,10),2))\n",
        "def sumFirst(startVal, endVal):\n",
        "    sum = 0\n",
        "    for i in range(startVal, endVal+1):\n",
        "        sum += 1/(i**2)\n",
        "    return sum\n",
        "realSum = sumFirst(1,10)\n",
        "print('Real sum is: ', realSum, 'thus making second approach more accurate')\n",
        "accuracy = (realSum - 1.54976)/realSum\n",
        "print('3b) Accuracy is: ', accuracy,'we must chop to 6 decimals to get this accuracy')\n",
        "def sumnew11First(startVal, endVal):\n",
        "    sum = 0\n",
        "    for i in range(startVal, endVal+1):\n",
        "        sum += chop_decimal(1/(11-i)**2,5)\n",
        "    return sum\n",
        "print('3c) Chopping to 5 decimals gives: ',chop_decimal(sumnew11First(1,10),5))"
      ],
      "metadata": {
        "id": "G7dIAMkVl1Ce",
        "colab": {
          "base_uri": "https://localhost:8080/"
        },
        "outputId": "ff2fe952-239c-4749-8c41-4c60a4efb4cd"
      },
      "execution_count": null,
      "outputs": [
        {
          "output_type": "stream",
          "name": "stdout",
          "text": [
            "3a) Sum of 1/i^2 is:  1.53 and sum of 1/(11-i)^2 is:  1.54\n",
            "Real sum is:  1.5497677311665408 thus making second approach more accurate\n",
            "3b) Accuracy is:  4.988596926661433e-06 we must chop to 6 decimals to get this accuracy\n",
            "3c) Chopping to 5 decimals gives:  1.54974\n"
          ]
        }
      ]
    },
    {
      "cell_type": "markdown",
      "source": [
        "4"
      ],
      "metadata": {
        "id": "e_i3EwV10Uv0"
      }
    },
    {
      "cell_type": "code",
      "source": [
        "def bisection(f, a, b, tol):\n",
        "  for n in range(1,20):\n",
        "    p = a + (b-a)/2\n",
        "    if f(p) == 0 or np.abs((a-b)/a) < tol:\n",
        "      print('4a) Numerical Solution p is',p, 'in', n, 'iterations')\n",
        "      return\n",
        "    if f(a)*f(p) < 0:\n",
        "      b = p\n",
        "    else:\n",
        "      a = p\n",
        "    n = n + 1\n",
        "    print(p)\n",
        "  y = f(p)\n",
        "  print('Method did not converge. The last iteration gives ', p, ' with function value ', y)\n",
        "bisection(lambda h: (10*((0.5*math.pi*(1**2))-((1**2)*asin(h/1))-(h*(1**2 - h**2)**(1/2))))-12.4, 0.01, 0.5,0.01)\n",
        "realSol = nsolve((10*((0.5*math.pi*(1**2))-((1**2)*asin(x/1))-(x*(1**2 - x**2)**(1/2))))-12.4, x, 1)\n",
        "relErr = (0.166166034658368 - 0.166611328125)/0.166166034658368\n",
        "print(1-0.166166,'Thus the depth of the water is 0.834 ft and the distance h is 0.167.')\n",
        "print('4b) Real solution is: ', abs(realSol), 'and relative error is: ', abs(relErr))\n"
      ],
      "metadata": {
        "id": "HpDdHk3b0VhP",
        "colab": {
          "base_uri": "https://localhost:8080/"
        },
        "outputId": "61d11074-2fa2-44b7-b8ce-cf9e908c1a79"
      },
      "execution_count": null,
      "outputs": [
        {
          "output_type": "stream",
          "name": "stdout",
          "text": [
            "0.255\n",
            "0.1325\n",
            "0.19375\n",
            "0.16312500000000002\n",
            "0.17843750000000003\n",
            "0.17078125000000002\n",
            "0.16695312500000004\n",
            "0.16503906250000003\n",
            "0.16599609375000002\n",
            "4a) Numerical Solution p is 0.16647460937500003 in 10 iterations\n",
            "0.833834 Thus the depth of the water is 0.834 ft and the distance h is 0.167.\n",
            "4b) Real solution is:  0.166166034658368 and relative error is:  0.002679810392945424\n"
          ]
        }
      ]
    },
    {
      "cell_type": "markdown",
      "source": [
        "Problem 5"
      ],
      "metadata": {
        "id": "wuVS-Og3lqd9"
      }
    },
    {
      "cell_type": "code",
      "source": [
        "def fixedpt(g, pzero, eps, N):\n",
        "  n = 1\n",
        "  while n<N:\n",
        "    pone = g(pzero)\n",
        "    if np.abs(pone-pzero)<eps:\n",
        "      print('p is ', pone, ' and the iteration number is ', n)\n",
        "      return\n",
        "    pzero = pone\n",
        "    n += 1\n",
        "  print('Did not converge. The last estimate is p = ', pzero)\n"
      ],
      "metadata": {
        "id": "-Ki4gWt9lr3u"
      },
      "execution_count": null,
      "outputs": []
    },
    {
      "cell_type": "code",
      "source": [
        "#np.solve(lambda t:300-((0.25*32.17*t)/0.1)+((0.25**2*32.17)/0.1**2)*(1-np.exp(-0.1*t/0.25)),t)"
      ],
      "metadata": {
        "id": "vloDwQMVlqWL"
      },
      "execution_count": null,
      "outputs": []
    },
    {
      "cell_type": "code",
      "source": [
        "fixedpt(lambda x: (6.230183401-2.5*np.exp(-.4*x)),5,.01,20)"
      ],
      "metadata": {
        "id": "QTfaBYlqoDlE",
        "colab": {
          "base_uri": "https://localhost:8080/"
        },
        "outputId": "2db01d80-3780-497f-a876-bd952dc6a4ef"
      },
      "execution_count": null,
      "outputs": [
        {
          "output_type": "stream",
          "name": "stdout",
          "text": [
            "p is  6.002785496097658  and the iteration number is  3\n"
          ]
        }
      ]
    },
    {
      "cell_type": "markdown",
      "source": [
        "Problem 6"
      ],
      "metadata": {
        "id": "Nb16pRMZoUTk"
      }
    },
    {
      "cell_type": "code",
      "source": [
        "def newton(f, df, pnot, tol):\n",
        "  for n in range (1,20):\n",
        "    p = pnot - f(pnot)/df(pnot)\n",
        "    if f(p) == 0 or np.abs((p-pnot)/p) < tol:\n",
        "      print('6a) Newton value for p is :', p, 'Iteration is: ' ,n,)\n",
        "      return\n",
        "    pnot = p\n",
        "    if df(p) == 0:\n",
        "      print('Does not work, derivative is zero')\n",
        "      return\n",
        "    n=n+1\n",
        "  y = f(p)\n",
        "  print('Does not work, function value is', y)\n",
        "newton(lambda x: 600*x**4-550*x**3+200*x**2-20*x-1, lambda x: 2400*x**3-1650*x**2+400*x-20, 0.5,10e-4)\n",
        "def secant(f, p0, p1, tol):\n",
        "  for n in range (1,20):\n",
        "    p = p1 - f(p1)*(p1-p0)/(f(p1)-f(p0))\n",
        "    if f(p) == 0 or np.abs((p-p1)/p) < tol:\n",
        "      print('6b) Secant value for p is :', p, 'Iteration is: ' ,n,)\n",
        "      return\n",
        "    p0 = p1\n",
        "    p1 = p\n",
        "    n=n+1\n",
        "  y = f(p)\n",
        "  print('Does not work, function value is', y)\n",
        "secant(lambda x: 600*x**4-550*x**3+200*x**2-20*x-1, 0.2,1,10e-4)"
      ],
      "metadata": {
        "colab": {
          "base_uri": "https://localhost:8080/"
        },
        "id": "w8IyAox_oVVH",
        "outputId": "14358333-fe22-4097-a307-a2fdd08b48e4"
      },
      "execution_count": null,
      "outputs": [
        {
          "output_type": "stream",
          "name": "stdout",
          "text": [
            "6a) Newton value for p is : 0.23235296476876366 Iteration is:  5\n",
            "6b) Secant value for p is : 0.23235295168799966 Iteration is:  5\n"
          ]
        }
      ]
    },
    {
      "cell_type": "markdown",
      "source": [
        "Problem 7"
      ],
      "metadata": {
        "id": "1KwVOBSiO5wm"
      }
    },
    {
      "cell_type": "code",
      "source": [
        "materialArea = (2*(x+0.25)*(1000/x**2))+(2*pii*(x+0.25)**2)\n",
        "critcRadius = diff(materialArea, x)\n",
        "#solve(critcRadius, x)"
      ],
      "metadata": {
        "id": "iDJhbWkCRHeq"
      },
      "execution_count": null,
      "outputs": []
    },
    {
      "cell_type": "code",
      "source": [
        "def mueller(f, p0, p1, p2, tol):\n",
        "  for n in range (1,20):\n",
        "    c = f(p2)\n",
        "    b = (((p0-p2)*(f(p1)-f(p2)))/((p1-p2)*(p0-p1))) - (((p1-p2)*(f(p0)-f(p2)))/((p0-p2)*(p0-p1)))\n",
        "    a = (((f(p0)-f(p2)))/((p0-p2)*(p0-p1))) - (((f(p1)-f(p2)))/((p1-p2)*(p0-p1)))\n",
        "    de = complex(b**2-(4*a*c))**0.5\n",
        "    if np.abs(b+de) > np.abs(b-de):\n",
        "      rt = 2*c/(b+de)\n",
        "    elif np.abs(b-de) > np.abs(b+de):\n",
        "      rt = 2*c/(b-de)\n",
        "    p = p2 - rt\n",
        "    if f(p) == 0 or np.abs((p-p2)/p)<tol:\n",
        "      print('Value for p is :', p, 'Iteration is: ' ,n,)\n",
        "      return\n",
        "    p0 = p1\n",
        "    p1 = p2\n",
        "    p2 = p\n",
        "    n = n + 1\n",
        "  y = f(p)\n",
        "  print('Does not work, function value is', y)\n"
      ],
      "metadata": {
        "id": "yG1lDps_O7Rj"
      },
      "execution_count": null,
      "outputs": []
    },
    {
      "cell_type": "code",
      "source": [
        "mueller(lambda t: critcRadius.subs(x,t),2,5,6,10e-4)"
      ],
      "metadata": {
        "colab": {
          "base_uri": "https://localhost:8080/"
        },
        "id": "_LvehtuQUicH",
        "outputId": "254dbe22-36e6-4bd4-8634-0c2b8ac053fe"
      },
      "execution_count": null,
      "outputs": [
        {
          "output_type": "stream",
          "name": "stdout",
          "text": [
            "Value for p is : 5.49672512497134 Iteration is:  3\n"
          ]
        }
      ]
    },
    {
      "cell_type": "code",
      "source": [
        "h=1000/(np.pi*5.49672512497134**2)  #this is the height of the can\n",
        "print('height:',h)\n",
        "r=5.49672512497134\n",
        "h=1000/(np.pi*r**2)\n",
        "SArea=np.pi*2*(r+.25)*1000/(np.pi*r**2)+2*np.pi*(r+.25)**2\n",
        "print('Area:', SArea)\n",
        "vol = h*np.pi*5.496732578292522**2\n",
        "print('Volume:', vol)"
      ],
      "metadata": {
        "colab": {
          "base_uri": "https://localhost:8080/"
        },
        "id": "pphYN-po-qmc",
        "outputId": "c38b8761-4af2-454b-a8f5-90589a1f3ee5"
      },
      "execution_count": null,
      "outputs": [
        {
          "output_type": "stream",
          "name": "stdout",
          "text": [
            "height: 10.535183097008442\n",
            "Area: 587.9028903783599\n",
            "Volume: 1000.0027119152099\n"
          ]
        }
      ]
    },
    {
      "cell_type": "markdown",
      "source": [
        "Problem 10"
      ],
      "metadata": {
        "id": "2oC_cWHKle-C"
      }
    },
    {
      "cell_type": "code",
      "source": [
        "def hdiff(x, y, yprime):\n",
        "  m = x.size # here m is the number of data points. Note n=m-1 # and 2n+1=2m-1\n",
        "  l = 2*m\n",
        "  z = np.zeros(l)\n",
        "  a = np.zeros(l)\n",
        "  for i in range(m):\n",
        "    z[2*i] = x[i]\n",
        "    z[2*i+1] = x[i]\n",
        "  for i in range(m):\n",
        "    a[2*i] = y[i]\n",
        "    a[2*i+1] = y[i]\n",
        "  for i in np.flip(np.arange(1, m)): # computes the first divided # differences using derivatives\n",
        "    a[2*i+1] = yprime[i]\n",
        "    a[2*i] = (a[2*i]-a[2*i-1]) / (z[2*i]-z[2*i-1])\n",
        "  a[1] = yprime[0]\n",
        "  for j in range(2, l): # computes the rest of the divided differences\n",
        "    for i in np.flip(np.arange(j, l)):\n",
        "      a[i]=(a[i]-a[i-1]) / (z[i]-z[i-j])\n",
        "  return a"
      ],
      "metadata": {
        "id": "stl5YFT-vCkz"
      },
      "execution_count": null,
      "outputs": []
    },
    {
      "cell_type": "code",
      "source": [
        "contantsofPoly = hdiff(np.array([0,3,5,8,13]),np.array([0,225,383,623,993]), np.array([75,77,80,74,72]))"
      ],
      "metadata": {
        "id": "j_1xLayCvsdx"
      },
      "execution_count": null,
      "outputs": []
    },
    {
      "cell_type": "code",
      "source": [
        "def hermite(x, y, yprime, w):\n",
        "  m = x.size # here m is the number of data points. not the # degree of the polynomial\n",
        "  a = hdiff(x, y, yprime)\n",
        "  z = np.zeros(2*m)\n",
        "  for i in range(m):\n",
        "    z[2*i] = x[i]\n",
        "    z[2*i+1] = x[i]\n",
        "  sum = a[0]\n",
        "  pr = 1.0\n",
        "  for j in range(2*m-1):\n",
        "    pr *= w-z[j]\n",
        "    sum += a[j+1]*pr\n",
        "  return sum\n",
        "hermiteEqn = hermite(np.array([0,3,5,8,13]),np.array([0,225,383,623,993]), np.array([75,77,80,74,72]),t)\n",
        "hermiteat10 = hermite(np.array([0,3,5,8,13]),np.array([0,225,383,623,993]), np.array([75,77,80,74,72]),10)\n",
        "print('At 10 sec the speed is:', hermiteat10)"
      ],
      "metadata": {
        "colab": {
          "base_uri": "https://localhost:8080/"
        },
        "id": "O_thoI14wn_i",
        "outputId": "d9843f70-b542-4fcb-e787-b8ad85a7336f"
      },
      "execution_count": null,
      "outputs": [
        {
          "output_type": "stream",
          "name": "stdout",
          "text": [
            "At 10 sec the speed is: 742.5028390987709\n"
          ]
        }
      ]
    },
    {
      "cell_type": "code",
      "source": [
        "derivative_hermiteEqn = diff(hermiteEqn, t)\n",
        "t_value = solve(derivative_hermiteEqn - 80.67, t)\n",
        "print(\"Time when the speed reaches 80.67:\", t_value[:3])\n"
      ],
      "metadata": {
        "colab": {
          "base_uri": "https://localhost:8080/"
        },
        "id": "1tJhcuy1zxFO",
        "outputId": "af56795f-8a9a-4951-87ac-d8514b7e3149"
      },
      "execution_count": null,
      "outputs": [
        {
          "output_type": "stream",
          "name": "stdout",
          "text": [
            "Time when the speed reaches 80.67: [5.65147289309882, 7.06980002784061, 11.3653950204514]\n"
          ]
        }
      ]
    },
    {
      "cell_type": "code",
      "source": [
        "t_values_to_evaluate = solve(derivative_hermiteEqn, t)\n",
        "\n",
        "#print(\"Real critical points:\", t_values_to_evaluate)"
      ],
      "metadata": {
        "id": "v__YMbgX5UXX"
      },
      "execution_count": null,
      "outputs": []
    },
    {
      "cell_type": "code",
      "source": [
        "second_derivative_hermiteEqn = diff(derivative_hermiteEqn, t)\n",
        "\n",
        "max_values = []\n",
        "for t_val in t_values_to_evaluate:\n",
        "  if(type(t_val) == sp.core.numbers.Float):\n",
        "    if(t_val.is_real):\n",
        "      if(t_val > 0):\n",
        "        max_val = second_derivative_hermiteEqn.subs({t:t_val})\n",
        "        if(max_val.is_real):\n",
        "          max_values.append((t_val, max_val))\n",
        "\n",
        "print(\"Maximum values of the second derivative:\")\n",
        "for t_val, max_val in max_values:\n",
        "    print(f\"At t = {t_val}: {max_val}\")"
      ],
      "metadata": {
        "colab": {
          "base_uri": "https://localhost:8080/"
        },
        "id": "hsgsxySW6MNY",
        "outputId": "db237245-1025-487c-f5a7-fe880c166c2c"
      },
      "execution_count": null,
      "outputs": [
        {
          "output_type": "stream",
          "name": "stdout",
          "text": [
            "Maximum values of the second derivative:\n",
            "At t = 13.2831238508296: -336.740200149813\n"
          ]
        }
      ]
    },
    {
      "cell_type": "markdown",
      "source": [
        "Problem 8"
      ],
      "metadata": {
        "id": "-pUC9bSpS-1B"
      }
    },
    {
      "cell_type": "code",
      "source": [
        "def lagrangeBasis(k, xValues):\n",
        "  result = 1\n",
        "  for i in range(len(xValues)):\n",
        "    if i != k:\n",
        "      result = result * (x - xValues[i])/(xValues[k] - xValues[i])\n",
        "  return result"
      ],
      "metadata": {
        "id": "jTDfZIqsS_aS"
      },
      "execution_count": null,
      "outputs": []
    },
    {
      "cell_type": "code",
      "source": [
        "l10 = lagrangeBasis(0,[-0.25,0.25])\n",
        "l11 = lagrangeBasis(1,[-0.25,0.25])\n",
        "p1 = (1.33203)*l10+(0.800781)*l11\n",
        "print('Polynomial is:', p1,'Polynomial at f(0):',p1.subs(x,0))"
      ],
      "metadata": {
        "id": "0FsVCpiJ0jEA",
        "colab": {
          "base_uri": "https://localhost:8080/"
        },
        "outputId": "257c8569-b1cc-42b8-9e7c-09fdec2bc3ef"
      },
      "execution_count": null,
      "outputs": [
        {
          "output_type": "stream",
          "name": "stdout",
          "text": [
            "Polynomial is: 1.0664055 - 1.062498*x Polynomial at f(0): 1.06640550000000\n"
          ]
        }
      ]
    },
    {
      "cell_type": "code",
      "source": [
        "l20 = lagrangeBasis(0,[-0.5,-0.25,0.25])\n",
        "l21 = lagrangeBasis(1,[-0.5,-0.25,0.25])\n",
        "l22 = lagrangeBasis(2,[-0.5,-0.25,0.25])\n",
        "p2 = (1.93250)*l20+(1.33203)*l21+ (0.800781)*l22\n",
        "print('Polynomial at f(0):',p2.subs(x,0),',And polynomial is:', simplify(p2))"
      ],
      "metadata": {
        "id": "dTSmsQ0d1B-P",
        "colab": {
          "base_uri": "https://localhost:8080/"
        },
        "outputId": "6950fe3d-1cf2-4883-802e-4327a56e3ae0"
      },
      "execution_count": null,
      "outputs": [
        {
          "output_type": "stream",
          "name": "stdout",
          "text": [
            "Polynomial at f(0): 0.954790333333333 ,And polynomial is: 1.78584266666667*x**2 - 1.062498*x + 0.954790333333333\n"
          ]
        }
      ]
    },
    {
      "cell_type": "code",
      "source": [
        "l20 = lagrangeBasis(0,[-0.5,-0.25,0.25, 0.5])\n",
        "l21 = lagrangeBasis(1,[-0.5,-0.25,0.25, 0.5])\n",
        "l22 = lagrangeBasis(2,[-0.5,-0.25,0.25, 0.5])\n",
        "l23 = lagrangeBasis(3,[-0.5,-0.25,0.25, 0.5])\n",
        "p3 = (1.93250)*l20+(1.33203)*l21+(0.800781)*l22+(0.687500)*l23\n",
        "print('Polynomial at f(0):',p3.subs(x,0),',And polynomial is:', simplify(p3))"
      ],
      "metadata": {
        "id": "6wd27v1N61KL",
        "colab": {
          "base_uri": "https://localhost:8080/"
        },
        "outputId": "5cdcb134-dd8d-4fa7-82ef-72ba8998f0d2"
      },
      "execution_count": null,
      "outputs": [
        {
          "output_type": "stream",
          "name": "stdout",
          "text": [
            "Polynomial at f(0): 0.985207333333333 ,And polynomial is: -0.973343999999997*x**3 + 1.29917066666667*x**2 - 1.001664*x + 0.985207333333333\n"
          ]
        }
      ]
    },
    {
      "cell_type": "markdown",
      "source": [
        "8b"
      ],
      "metadata": {
        "id": "7MKu9gRaKONH"
      }
    },
    {
      "cell_type": "code",
      "source": [
        "realFunc = x**4-x**3+x**2-x+1\n",
        "etan1 = diff(diff(realFunc,x),x)\n",
        "etan2 = diff(diff(diff(realFunc,x),x),x)\n",
        "print('Differential for n = 1 is:', etan1 ,'and differential for n = 2 is:', etan2)\n",
        "print('Lets calculate differential at x = x1 for n = 1 and at x = x2 for n = 2')\n",
        "print('For n = 1, x = -0.25 we get:', etan1.subs(x,0))\n",
        "print('For n = 2, x = -0.25 we get:', etan2.subs(x,0))\n",
        "print('Substituting these values in theorem 51 gives the bound for error:')\n",
        "boundErrForn1 = (etan1.subs(x, 0))/(factorial(2))*(0.5**2)*(1/4)\n",
        "print('At n = 1 is:',boundErrForn1)\n",
        "boundErrForn2 = (etan1.subs(x, 0))/(factorial(3))*((0.5/2)**3)*(2/4)\n",
        "print('At n = 2 is:',boundErrForn2)"
      ],
      "metadata": {
        "colab": {
          "base_uri": "https://localhost:8080/"
        },
        "id": "5Ic3EwJHKOpi",
        "outputId": "b38cb8a7-01a2-43cc-c9af-63d55023019b"
      },
      "execution_count": null,
      "outputs": [
        {
          "output_type": "stream",
          "name": "stdout",
          "text": [
            "Differential for n = 1 is: 12*x**2 - 6*x + 2 and differential for n = 2 is: 24*x - 6\n",
            "Lets calculate differential at x = x1 for n = 1 and at x = x2 for n = 2\n",
            "For n = 1, x = -0.25 we get: 2\n",
            "For n = 2, x = -0.25 we get: -6\n",
            "Substituting these values in theorem 51 gives the bound for error:\n",
            "At n = 1 is: 0.0625000000000000\n",
            "At n = 2 is: 0.00260416666666667\n"
          ]
        }
      ]
    },
    {
      "cell_type": "markdown",
      "source": [
        "Problem 9"
      ],
      "metadata": {
        "id": "g4XPApdtGOTb"
      }
    },
    {
      "cell_type": "code",
      "source": [
        "Newt=expand(2+1*(x-1)+0*(x-1)*(x-2)+.05*(x-1)*(x-2)*(x-4))\n",
        "print(Newt)"
      ],
      "metadata": {
        "colab": {
          "base_uri": "https://localhost:8080/"
        },
        "id": "EvRWRfV6GGVB",
        "outputId": "720c672c-5796-4207-fd8f-07e45ef9c34b"
      },
      "execution_count": null,
      "outputs": [
        {
          "output_type": "stream",
          "name": "stdout",
          "text": [
            "0.05*x**3 - 0.35*x**2 + 1.7*x + 0.6\n"
          ]
        }
      ]
    },
    {
      "cell_type": "code",
      "source": [
        "for n in range(1,7):\n",
        "    print(n,Newt.subs(x,n))"
      ],
      "metadata": {
        "colab": {
          "base_uri": "https://localhost:8080/"
        },
        "id": "bY22fgVxGP9Q",
        "outputId": "65baa759-e4ec-4e3b-d5f0-5211ae346161"
      },
      "execution_count": null,
      "outputs": [
        {
          "output_type": "stream",
          "name": "stdout",
          "text": [
            "1 2.00000000000000\n",
            "2 3.00000000000000\n",
            "3 3.90000000000000\n",
            "4 5.00000000000000\n",
            "5 6.60000000000000\n",
            "6 9.00000000000000\n"
          ]
        }
      ]
    },
    {
      "cell_type": "code",
      "source": [
        "Newt2=expand(2+1*(x-1)+0*(x-1)*(x-2)+.05*(x-1)*(x-2)*(x-4)+0.01666667*(x-1)*(x-2)*(x-4)*(x-6))\n",
        "print(Newt2)"
      ],
      "metadata": {
        "colab": {
          "base_uri": "https://localhost:8080/"
        },
        "id": "_eTS-KLcGWdW",
        "outputId": "7151ba4f-7726-4bc4-b2c2-6e2330f80d0e"
      },
      "execution_count": null,
      "outputs": [
        {
          "output_type": "stream",
          "name": "stdout",
          "text": [
            "0.01666667*x**4 - 0.16666671*x**3 + 0.58333352*x**2 + 0.16666636*x + 1.40000016\n"
          ]
        }
      ]
    },
    {
      "cell_type": "code",
      "source": [
        "for n in range(1,7):\n",
        "    print(n,Newt.subs(x,n),Newt2.subs(x,n))"
      ],
      "metadata": {
        "id": "-WHG_GgkGeuR",
        "outputId": "375d5377-7a6c-4f15-dd70-cbc67caf5c9d",
        "colab": {
          "base_uri": "https://localhost:8080/"
        }
      },
      "execution_count": null,
      "outputs": [
        {
          "output_type": "stream",
          "name": "stdout",
          "text": [
            "1 2.00000000000000 2.00000000000000\n",
            "2 3.00000000000000 3.00000000000000\n",
            "3 3.90000000000000 4.00000002000000\n",
            "4 5.00000000000000 5.00000000000000\n",
            "5 6.60000000000000 6.39999996000001\n",
            "6 9.00000000000000 9.00000000000001\n"
          ]
        }
      ]
    },
    {
      "cell_type": "markdown",
      "source": [
        "Problem 11"
      ],
      "metadata": {
        "id": "SZI3Tt3o2NQp"
      }
    },
    {
      "cell_type": "code",
      "source": [
        "def midpoint2(f,a,b,n):\n",
        "  h = (b-a)/n\n",
        "  return ((4*h)/3*(2*f(a)-f(a+h)+2*f(a+2*h)))"
      ],
      "metadata": {
        "id": "H-LFpi5i2O8I"
      },
      "execution_count": null,
      "outputs": []
    },
    {
      "cell_type": "code",
      "source": [
        "def midpoint(f,a,b):\n",
        "  h = (b-a)/2\n",
        "  return ((h*2)*(f(a+h)))\n",
        "print('Midpoint integral 1: ',midpoint(lambda x: x/(np.sqrt(x**2-4)),3,3.5))\n",
        "print('Midpoing integral 2: ', midpoint(lambda x: np.exp(3*x)*np.sin(2*x),0,math.pi/4))\n",
        "def trapezoid(f,a,b,n):\n",
        "  h = (b-a)\n",
        "  return ((h/2)*(f(a)+f(b)))\n",
        "print('Trapezoid integral 1: ',trapezoid(lambda x: x/(x**2-4)**(1/2), 3, 3.5,2))\n",
        "print('Trapezoid integral 2: ',trapezoid(lambda x: np.exp(3*x)*np.sin(2*x), 0, (math.pi/4),2))\n",
        "def simpsons(f,a,b):\n",
        "  return ((f(a)+4*f((a+b)/2)+f(b))*(b-a)/6)\n",
        "print('Simpsons integral 1:',simpsons(lambda x: x/(x**2-4)**(1/2), 3,3.5))\n",
        "print('Simpsons integral 2:',simpsons(lambda x: np.exp(3*x)*np.sin(2*x), 0, (math.pi/4)))\n",
        "gaussian1 = x/(x**2-4)**(1/2)\n",
        "newGauss1 = gaussian1.subs(x,0.5*((3.5-3)*t+3+3.5))\n",
        "gaussian2 = exp(3*x)*sin(2*x)\n",
        "newGauss2 = gaussian2.subs(x,0.5*((math.pi/4-0)*t+0+math.pi/4))\n",
        "def gaussianN2(r1,r2,w1,w2):\n",
        "  integrl1 = (1/4)*(w1*newGauss1.subs(t,r1)+w2*newGauss1.subs(t,r2))\n",
        "  integrl2 = (1/4)*(w1*newGauss2.subs(t,r1)+w2*newGauss2.subs(t,r2))\n",
        "  print('Integral 1 for n = 2 is:',integrl1)\n",
        "  print('Integral 2 for n = 2 is:',integrl2)\n",
        "  return\n",
        "gaussianN2(0.5773502692,-0.5773502692,1,1)\n",
        "def gaussianN3(r1,r2,r3,w1,w2,w3):\n",
        "  integrl1 = (1/4)*(w1*newGauss1.subs(t,r1)+w2*newGauss1.subs(t,r2)+w3*newGauss1.subs(t,r3))\n",
        "  integrl2 = (1/4)*(w1*newGauss2.subs(t,r1)+w2*newGauss2.subs(t,r2)+w3*newGauss2.subs(t,r3))\n",
        "  print('Integral 1 for n = 3 is:',integrl1)\n",
        "  print('Integral 2 for n = 3 is:',integrl2)\n",
        "  return\n",
        "gaussianN3(-0.77,0,0.77,0.56,0.89,0.56)"
      ],
      "metadata": {
        "id": "TZrxe1tW4X34",
        "colab": {
          "base_uri": "https://localhost:8080/"
        },
        "outputId": "38165f9c-a389-45c3-88e5-f64be755af6c"
      },
      "execution_count": null,
      "outputs": [
        {
          "output_type": "stream",
          "name": "stdout",
          "text": [
            "Midpoint integral 1:  0.6343350474165466\n",
            "Midpoing integral 2:  1.8039147772741861\n",
            "Trapezoid integral 1:  0.6400460945474397\n",
            "Trapezoid integral 2:  4.143259655194083\n",
            "Simpsons integral 1: 0.6362387297935109\n",
            "Simpsons integral 2: 2.5836964032474845\n",
            "Integral 1 for n = 2 is: 0.636196564962864\n",
            "Integral 2 for n = 2 is: 1.64968855062870\n",
            "Integral 1 for n = 3 is: 0.639377048738658\n",
            "Integral 2 for n = 3 is: 1.65219658559349\n"
          ]
        }
      ]
    },
    {
      "cell_type": "markdown",
      "source": [
        "Problem 12"
      ],
      "metadata": {
        "id": "tNRfJe4La08A"
      }
    },
    {
      "cell_type": "code",
      "source": [
        "lag40 = lagrangeBasis(0,[0,6,12,18,24,30,36,42,48,54,60,66,72,78,84])\n",
        "lag41 = lagrangeBasis(1,[0,6,12,18,24,30,36,42,48,54,60,66,72,78,84])\n",
        "lag42 = lagrangeBasis(2,[0,6,12,18,24,30,36,42,48,54,60,66,72,78,84])\n",
        "lag43 = lagrangeBasis(3,[0,6,12,18,24,30,36,42,48,54,60,66,72,78,84])\n",
        "lag44 = lagrangeBasis(4,[0,6,12,18,24,30,36,42,48,54,60,66,72,78,84])\n",
        "lag45 = lagrangeBasis(5,[0,6,12,18,24,30,36,42,48,54,60,66,72,78,84])\n",
        "lag46 = lagrangeBasis(6,[0,6,12,18,24,30,36,42,48,54,60,66,72,78,84])\n",
        "lag47 = lagrangeBasis(7,[0,6,12,18,24,30,36,42,48,54,60,66,72,78,84])\n",
        "lag48 = lagrangeBasis(8,[0,6,12,18,24,30,36,42,48,54,60,66,72,78,84])\n",
        "lag49 = lagrangeBasis(9,[0,6,12,18,24,30,36,42,48,54,60,66,72,78,84])\n",
        "lag50 = lagrangeBasis(10,[0,6,12,18,24,30,36,42,48,54,60,66,72,78,84])\n",
        "lag51 = lagrangeBasis(11,[0,6,12,18,24,30,36,42,48,54,60,66,72,78,84])\n",
        "lag52 = lagrangeBasis(12,[0,6,12,18,24,30,36,42,48,54,60,66,72,78,84])\n",
        "lag53 = lagrangeBasis(13,[0,6,12,18,24,30,36,42,48,54,60,66,72,78,84])\n",
        "lag54 = lagrangeBasis(14,[0,6,12,18,24,30,36,42,48,54,60,66,72,78,84])"
      ],
      "metadata": {
        "id": "X_6J2v2Wa1z0"
      },
      "execution_count": null,
      "outputs": []
    },
    {
      "cell_type": "code",
      "source": [
        "funcSpeedTime = (124*lag40)+(134*lag41)+(148*lag42)+(156*lag43)+(147*lag44)+(133*lag45)+(121*lag46)+(109*lag47)+(99*lag48)+(85*lag49)+(78*lag50)+(89*lag51)+(104*lag52)+(116*lag53)+(123*lag54)\n",
        "newspeedFunc = funcSpeedTime.subs(x,t)\n",
        "#print(newspeedFunc)"
      ],
      "metadata": {
        "id": "uQLNWY3Td1G_"
      },
      "execution_count": null,
      "outputs": []
    },
    {
      "cell_type": "code",
      "source": [
        "import numpy as np\n",
        "import matplotlib.pyplot as plt\n",
        "from sympy import *\n",
        "\n",
        "# Assuming the code from the previous response is available and defines funcSpeedTime and lagrangeBasis\n",
        "\n",
        "x, t = symbols('x t')\n",
        "\n",
        "# Define the x-values for plotting\n",
        "x_vals = np.arange(0, 85, 0.1)\n",
        "y_vals = []\n",
        "\n",
        "# Evaluate funcSpeedTime at each x-value\n",
        "for val in x_vals:\n",
        "    y_vals.append(funcSpeedTime.subs(x, val))\n",
        "\n",
        "# Create the plot\n",
        "plt.plot(x_vals, y_vals)\n",
        "\n",
        "\n",
        "# Plot the dots at specified x-values (0,6,12,18,24,30,...84)\n",
        "dots_x = np.arange(0, 85, 6)\n",
        "dots_y = []\n",
        "\n",
        "for val in dots_x:\n",
        "  dots_y.append(funcSpeedTime.subs(x, val))\n",
        "\n",
        "plt.plot(dots_x, dots_y, 'ro')\n",
        "\n",
        "# Customize the plot\n",
        "plt.xlabel(\"Time\")\n",
        "plt.ylabel(\"Speed\")\n",
        "plt.title(\"Plot of funcSpeedTime\")\n",
        "plt.grid(True)\n",
        "plt.show()"
      ],
      "metadata": {
        "colab": {
          "base_uri": "https://localhost:8080/",
          "height": 472
        },
        "id": "GEEy5fr3n2hE",
        "outputId": "8cc0507c-79f5-4666-ba54-8fa37805966c"
      },
      "execution_count": null,
      "outputs": [
        {
          "output_type": "display_data",
          "data": {
            "text/plain": [
              "<Figure size 640x480 with 1 Axes>"
            ],
            "image/png": "[encoded data removed]"
          },
          "metadata": {}
        }
      ]
    },
    {
      "cell_type": "code",
      "source": [
        "def compositeSimps(f,a,b,n):\n",
        "  h = (b-a)/n\n",
        "  nodes = np.zeros(n+1)\n",
        "  for i in range(n+1):\n",
        "    nodes[i] = a + i*h\n",
        "  sum = f(a) + f(b)\n",
        "  for i in range(2,n-1,2):\n",
        "    sum = sum + 2*f(nodes[i])\n",
        "  for i in range(1,n,2):\n",
        "    sum = sum + 4*f(nodes[i])\n",
        "  return (h/3)*sum"
      ],
      "metadata": {
        "id": "XNSYC3wWeqXP"
      },
      "execution_count": null,
      "outputs": []
    },
    {
      "cell_type": "code",
      "source": [
        "print('Distance is: ',compositeSimps(lambda t: funcSpeedTime.subs(x,t), 0, 84, 14))"
      ],
      "metadata": {
        "colab": {
          "base_uri": "https://localhost:8080/"
        },
        "id": "EX9uP2OQlnSx",
        "outputId": "8bd4ca22-1b0f-4386-b5f5-d3ed014c87dd"
      },
      "execution_count": null,
      "outputs": [
        {
          "output_type": "stream",
          "name": "stdout",
          "text": [
            "Distance is:  9858.00000000000\n"
          ]
        }
      ]
    },
    {
      "cell_type": "code",
      "source": [
        "takingDiff = diff(diff(diff(diff(funcSpeedTime.subs(x,t),t),t),t),t)\n",
        "def errorInSimps(diff, a,b,n):\n",
        "  error = ((b-a)/180)*((b-a)/n)**4*diff.subs(t,42)\n",
        "  return error\n",
        "print('The error is:',errorInSimps(takingDiff,0,84,14),'Which seems reasonable for our distance')"
      ],
      "metadata": {
        "colab": {
          "base_uri": "https://localhost:8080/"
        },
        "id": "nXyZea4ul3aY",
        "outputId": "64cca268-d7c2-41d4-9b62-212ca563e6ff"
      },
      "execution_count": null,
      "outputs": [
        {
          "output_type": "stream",
          "name": "stdout",
          "text": [
            "The error is: -11.2218604564160 Which seems reasonable for our distance\n"
          ]
        }
      ]
    },
    {
      "cell_type": "markdown",
      "source": [],
      "metadata": {
        "id": "tXHp4bkxJSxr"
      }
    },
    {
      "cell_type": "markdown",
      "source": [],
      "metadata": {
        "id": "qlPI4WpfJStx"
      }
    },
    {
      "cell_type": "markdown",
      "source": [],
      "metadata": {
        "id": "m-MoTsSKJSoh"
      }
    },
    {
      "cell_type": "markdown",
      "source": [],
      "metadata": {
        "id": "4p2YCYPMJSi5"
      }
    },
    {
      "cell_type": "markdown",
      "source": [],
      "metadata": {
        "id": "d1gKxebNJSZx"
      }
    },
    {
      "cell_type": "markdown",
      "source": [],
      "metadata": {
        "id": "3p_UOawqJSUw"
      }
    },
    {
      "cell_type": "markdown",
      "source": [],
      "metadata": {
        "id": "AMLEEX5OJSRe"
      }
    },
    {
      "cell_type": "markdown",
      "source": [],
      "metadata": {
        "id": "qCsOFVKmJSOQ"
      }
    },
    {
      "cell_type": "markdown",
      "source": [],
      "metadata": {
        "id": "Uuwv3liTcW6_"
      }
    },
    {
      "cell_type": "markdown",
      "source": [],
      "metadata": {
        "id": "o2iMpg24cWzQ"
      }
    },
    {
      "cell_type": "markdown",
      "source": [
        "**Homework 2**"
      ],
      "metadata": {
        "id": "xGgwGQRALzrA"
      }
    },
    {
      "cell_type": "markdown",
      "source": [
        "Problem 1"
      ],
      "metadata": {
        "id": "lFUbI_NOCtU5"
      }
    },
    {
      "cell_type": "code",
      "source": [
        "erfun = 2*(math.pi)**(1/2)*integrate(exp(-x**2),(x,0,t))\n",
        "erfun"
      ],
      "metadata": {
        "colab": {
          "base_uri": "https://localhost:8080/",
          "height": 38
        },
        "id": "FvdTihS-LzOZ",
        "outputId": "af8bd0b2-b25c-4e0e-a73d-7c2f1f190f0d"
      },
      "execution_count": null,
      "outputs": [
        {
          "output_type": "execute_result",
          "data": {
            "text/plain": [
              "1.77245385090552⋅√π⋅erf(t)"
            ],
            "text/latex": "$\\displaystyle 1.77245385090552 \\sqrt{\\pi} \\operatorname{erf}{\\left(t \\right)}$"
          },
          "metadata": {},
          "execution_count": 3
        }
      ]
    },
    {
      "cell_type": "code",
      "source": [
        "def rk4(yprime, ti, N, tf, y0):\n",
        "  h = (tf - ti)/N\n",
        "  yi = np.zeros(N+1)\n",
        "  yi[0] = y0\n",
        "  t_values = [ti + i * h for i in range(0,N+1)]\n",
        "  for i in range(1,N+1):\n",
        "    k1 = h*yprime(yi[i-1],t_values[i-1])\n",
        "    k2 = h*yprime(yi[i-1]+k1/2,t_values[i-1]+h/2)\n",
        "    k3 = h*yprime(yi[i-1]+k2/2,t_values[i-1]+h/2)\n",
        "    k4 = h*yprime(yi[i-1]+k3,t_values[i-1]+h)\n",
        "    yi[i] = yi[i-1] + (k1+2*k2+2*k3+k4)/6\n",
        "  return yi"
      ],
      "metadata": {
        "id": "zM0V6XMrMSR9"
      },
      "execution_count": null,
      "outputs": []
    },
    {
      "cell_type": "code",
      "source": [
        "rk4(lambda y,t: 3.54490770181103*np.exp(-t**2),0,40,4,0)"
      ],
      "metadata": {
        "id": "gy1v8eb-Mor6",
        "colab": {
          "base_uri": "https://localhost:8080/"
        },
        "outputId": "8945d862-e393-4d7b-abfb-285115d9b77a"
      },
      "execution_count": null,
      "outputs": [
        {
          "output_type": "execute_result",
          "data": {
            "text/plain": [
              "array([0.        , 0.35331282, 0.6996411 , 1.0324118 , 1.34583473,\n",
              "       1.63519907, 1.89707033, 2.12937568, 2.3313793 , 2.50356126,\n",
              "       2.6474228 , 2.76524587, 2.85983572, 2.93427245, 2.99169185,\n",
              "       3.03510871, 3.06728878, 3.09066875, 3.10731933, 3.11894301,\n",
              "       3.12689703, 3.13223231, 3.13574029, 3.13800122, 3.13942959,\n",
              "       3.14031415, 3.14085111, 3.14117062, 3.14135699, 3.14146354,\n",
              "       3.14152325, 3.14155606, 3.14157372, 3.14158305, 3.14158787,\n",
              "       3.14159032, 3.14159154, 3.14159213, 3.14159241, 3.14159254,\n",
              "       3.14159261])"
            ]
          },
          "metadata": {},
          "execution_count": 4
        }
      ]
    },
    {
      "cell_type": "code",
      "source": [
        "erfuncVals = np.array([0.1, 1.0,1.5,2.9, 3.8])\n",
        "erfuncY = np.array([0.1124629, 0.8427008, 0.9661051, 0.9999589, 0.9999999])\n",
        "erfunYprime = np.array([0.35331282, 2.6474228,3.03510871,3.14146354,3.14159241])"
      ],
      "metadata": {
        "id": "KhWxKV_wMTqQ"
      },
      "execution_count": null,
      "outputs": []
    },
    {
      "cell_type": "code",
      "source": [
        "def lagrangeBasis(k, xValues):\n",
        "  result = 1\n",
        "  for i in range(len(xValues)):\n",
        "    if i != k:\n",
        "      result = result * (x - xValues[i])/(xValues[k] - xValues[i])\n",
        "  return result"
      ],
      "metadata": {
        "id": "cij3b8VdOpAG"
      },
      "execution_count": null,
      "outputs": []
    },
    {
      "cell_type": "code",
      "source": [
        "def get_polynomial(position_array, power_array, num_points):\n",
        "  #Check if enough points are given\n",
        "  if num_points > len(position_array):\n",
        "    raise ValueError(\"Number of points requested exceeds the number of available data points.\")\n",
        "\n",
        "  basis_polynomials = [lagrangeBasis(i, position_array[:num_points]) for i in range(num_points)]\n",
        "  polynomial = 0\n",
        "  for i in range(num_points):\n",
        "    polynomial += power_array[i] * basis_polynomials[i]\n",
        "  return polynomial"
      ],
      "metadata": {
        "id": "2pfZp-2T8GBe"
      },
      "execution_count": null,
      "outputs": []
    },
    {
      "cell_type": "code",
      "source": [
        "ercPoly = get_polynomial(erfuncVals,erfuncY,4)"
      ],
      "metadata": {
        "id": "myA-klMP8JW_"
      },
      "execution_count": null,
      "outputs": []
    },
    {
      "cell_type": "code",
      "source": [
        "import matplotlib.pyplot as plt\n",
        "import numpy as np\n",
        "\n",
        "x_vals = np.linspace(min(erfuncVals), max(erfuncVals), 100)\n",
        "\n",
        "y_vals = [ercPoly.subs(x, val) for val in x_vals]\n",
        "\n",
        "# Create the plot\n",
        "plt.plot(x_vals, y_vals)\n",
        "plt.xlabel(\"x\")\n",
        "plt.ylabel(\"y\")\n",
        "plt.title(\"Graph of the Polynomial\")\n",
        "\n",
        "# Plot the given points as well\n",
        "plt.plot(erfuncVals, erfuncY, 'ro')  # 'ro' for red circles\n",
        "\n",
        "plt.grid(True)\n",
        "plt.show()"
      ],
      "metadata": {
        "colab": {
          "base_uri": "https://localhost:8080/",
          "height": 472
        },
        "id": "RwJPvCPBGy7f",
        "outputId": "505c29ed-cf63-4952-f0f9-336f0c7b4b5a"
      },
      "execution_count": null,
      "outputs": [
        {
          "output_type": "display_data",
          "data": {
            "text/plain": [
              "<Figure size 640x480 with 1 Axes>"
            ],
            "image/png": "[encoded data removed]"
          },
          "metadata": {}
        }
      ]
    },
    {
      "cell_type": "markdown",
      "source": [
        "Problem 2"
      ],
      "metadata": {
        "id": "XygB9nR-GfTo"
      }
    },
    {
      "cell_type": "code",
      "source": [
        "x0, x1, x2, x3, x4 = symbols('x0 x1 x2 x3 x4')"
      ],
      "metadata": {
        "id": "CoaghESfIzyG"
      },
      "execution_count": null,
      "outputs": []
    },
    {
      "cell_type": "code",
      "source": [
        "import sympy as sp\n",
        "\n",
        "x, t = sp.symbols('x t')\n",
        "\n",
        "def lagrangeBasis(k, xValues):\n",
        "  result = 1\n",
        "  for i in range(len(xValues)):\n",
        "    if i != k:\n",
        "      result = result * (x - xValues[i])/(xValues[k] - xValues[i])\n",
        "  return result\n",
        "\n",
        "# Define x values as x0, x0+h, x0+2h, x0+3h, x0+4h\n",
        "h = sp.symbols('h')\n",
        "x_values = [x0, x0 + h, x0 + 2 * h, x0 + 3 * h, x0 + 4 * h]\n",
        "\n",
        "\n",
        "# Define f(xk) as symbolic functions\n",
        "f_x0, f_x1, f_x2, f_x3, f_x4 = sp.symbols('f(x0) f(x1) f(x2) f(x3) f(x4)')\n",
        "f_values = [f_x0, f_x1, f_x2, f_x3, f_x4]\n",
        "\n",
        "\n",
        "# Construct the 5-point Lagrange polynomial\n",
        "lagrange_polynomial = 0\n",
        "for i in range(5):\n",
        "    lagrange_polynomial += f_values[i] * lagrangeBasis(i, x_values)\n",
        "\n",
        "# Calculate the first derivative of the Lagrange polynomial\n",
        "first_derivative = sp.diff(lagrange_polynomial, x)\n",
        "\n",
        "# Substitute xj = x0 for the derivative at x0\n",
        "first_derivative_at_x0 = first_derivative.subs(x, x0)\n",
        "\n",
        "#Simplify the result\n",
        "simplified_derivative = sp.simplify(first_derivative_at_x0)\n",
        "\n",
        "\n",
        "print(\"5-point formula for the first derivative at x0:\")\n",
        "simplified_derivative"
      ],
      "metadata": {
        "colab": {
          "base_uri": "https://localhost:8080/",
          "height": 70
        },
        "id": "4SHveFbCL1bg",
        "outputId": "082b0a4a-898e-4f94-cfce-3647b398a517"
      },
      "execution_count": null,
      "outputs": [
        {
          "output_type": "stream",
          "name": "stdout",
          "text": [
            "5-point formula for the first derivative at x0:\n"
          ]
        },
        {
          "output_type": "execute_result",
          "data": {
            "text/plain": [
              "-25⋅f(x0) + 48⋅f(x1) - 36⋅f(x2) + 16⋅f(x3) - 3⋅f(x4)\n",
              "────────────────────────────────────────────────────\n",
              "                        12⋅h                        "
            ],
            "text/latex": "$\\displaystyle \\frac{- 25 f(x0) + 48 f(x1) - 36 f(x2) + 16 f(x3) - 3 f(x4)}{12 h}$"
          },
          "metadata": {},
          "execution_count": 14
        }
      ]
    },
    {
      "cell_type": "markdown",
      "source": [
        "Problem 3"
      ],
      "metadata": {
        "id": "XuL2H8dZVBVQ"
      }
    },
    {
      "cell_type": "code",
      "source": [
        "xPts1 = np.array([1.1,1.2,1.3,1.4])\n",
        "yPts1 = np.array([9.025013, 11.2318, 13.46374, 16.4465])\n",
        "h = 0.1"
      ],
      "metadata": {
        "id": "5DJu06oGJnnS"
      },
      "execution_count": null,
      "outputs": []
    },
    {
      "cell_type": "code",
      "source": [
        "def calcEndpts(xPts, yPts):\n",
        "  h = xPts[1]-xPts[0]\n",
        "  for i in range(len(xPts)-3):\n",
        "    startpts = (-3*(yPts[i])+4*(yPts[i+1])-yPts[i+2])/(2*h)\n",
        "    endpts = (3*(yPts[i+3])-4*(yPts[i+2])+yPts[i+1])/(2*h)\n",
        "    midpts1 = (yPts[i-1]-yPts[i+1])/(2*h)\n",
        "    midpts2 = (yPts[i+2]-yPts[i])/(2*h)\n",
        "  return startpts, midpts2, midpts1, endpts"
      ],
      "metadata": {
        "id": "MyypdA_-Xrry"
      },
      "execution_count": null,
      "outputs": []
    },
    {
      "cell_type": "code",
      "source": [
        "calcEndpts(xPts1,yPts1)"
      ],
      "metadata": {
        "colab": {
          "base_uri": "https://localhost:8080/",
          "height": 37
        },
        "id": "iZXMEg8GYPfp",
        "outputId": "2923eac1-f1f6-4c24-c055-01408378a66e"
      },
      "execution_count": null,
      "outputs": [
        {
          "output_type": "execute_result",
          "data": {
            "text/plain": [
              "(21.942105000000044, 22.19363500000003, 26.07350000000004, 33.581700000000055)"
            ],
            "text/latex": "$\\displaystyle \\left( 21.942105, \\  22.193635, \\  26.0735, \\  33.5817000000001\\right)$"
          },
          "metadata": {},
          "execution_count": 18
        }
      ]
    },
    {
      "cell_type": "code",
      "source": [
        "xpts2 = np.array([2.9,3,3.1,3.2])\n",
        "ypts2 = np.array([-4.82787, -4.24006, -3.49691, -2.59679])"
      ],
      "metadata": {
        "id": "VYAKrcwPapZp"
      },
      "execution_count": null,
      "outputs": []
    },
    {
      "cell_type": "code",
      "source": [
        "calcEndpts(xpts2,ypts2)"
      ],
      "metadata": {
        "colab": {
          "base_uri": "https://localhost:8080/",
          "height": 37
        },
        "id": "sS9tPSOEbEne",
        "outputId": "6043cc96-a96b-48b4-d020-c693081215bd"
      },
      "execution_count": null,
      "outputs": [
        {
          "output_type": "execute_result",
          "data": {
            "text/plain": [
              "(5.1013999999999955, 6.654799999999993, 8.216349999999991, 9.78605)"
            ],
            "text/latex": "$\\displaystyle \\left( 5.1014, \\  6.65479999999999, \\  8.21634999999999, \\  9.78605\\right)$"
          },
          "metadata": {},
          "execution_count": 20
        }
      ]
    },
    {
      "cell_type": "markdown",
      "source": [
        "Problem 6"
      ],
      "metadata": {
        "id": "yM09bWdND8nb"
      }
    },
    {
      "cell_type": "code",
      "source": [
        "def midpoint(yprime, ti, N, tf, y0):\n",
        "  h = (tf - ti)/N\n",
        "  yi = np.zeros(N+1)\n",
        "  yi[0] = y0\n",
        "  t_values = [ti + i * h for i in range(0,N+1)]\n",
        "  for i in range(1,N+1):\n",
        "    #tval = ti + (i-1) * h\n",
        "    yi[i] = yi[i-1] + h*yprime(yi[i-1]+h*yprime(yi[i-1],t_values[i-1])/2,t_values[i-1]+h/2)\n",
        "  return yi\n",
        "\n",
        "def realVal(ti, tf, N):\n",
        "  h = (tf-ti)/N\n",
        "  yf = np.zeros(N+1)\n",
        "  t_values = [ti + i * h for i in range(0,N+1)]\n",
        "  for i in range(0,N+1):\n",
        "    #tval = ti + (i-1) * h\n",
        "    yf[i] = t_values[i] + 1/(1-t_values[i])\n",
        "  return yf\n",
        "\n",
        "def modified_euler(yprime, ti, N, tf, y0):\n",
        "  h = (tf - ti)/N\n",
        "  yi = np.zeros(N+1)\n",
        "  yi[0] = y0\n",
        "  t_values = [ti + i * h for i in range(0,N+1)]\n",
        "  for i in range(1,N+1):\n",
        "    yi[i] = yi[i-1] + (h/2)*(yprime(yi[i-1],t_values[i-1])+yprime(yi[i-1]+h*yprime(yi[i-1],t_values[i-1]),t_values[i]))\n",
        "  return yi\n",
        "\n",
        "def huen(yprime, ti, N, tf, y0):\n",
        "  h = (tf - ti)/N\n",
        "  yi = np.zeros(N+1)\n",
        "  yi[0] = y0\n",
        "  t_values = [ti + i * h for i in range(0,N+1)]\n",
        "  for i in range(1,N+1):\n",
        "    yi[i] = yi[i-1] + (h/4)*(yprime(yi[i-1],t_values[i-1])+3*yprime(yi[i-1]+(2*h*yprime(yi[i-1],t_values[i-1]))/3, t_values[i-1]+ 2*h/3))\n",
        "  return yi\n",
        "\n",
        "def rk4(yprime, ti, N, tf, y0):\n",
        "  h = (tf - ti)/N\n",
        "  yi = np.zeros(N+1)\n",
        "  yi[0] = y0\n",
        "  t_values = [ti + i * h for i in range(0,N+1)]\n",
        "  for i in range(1,N+1):\n",
        "    k1 = h*yprime(yi[i-1],t_values[i-1])\n",
        "    k2 = h*yprime(yi[i-1]+k1/2,t_values[i-1]+h/2)\n",
        "    k3 = h*yprime(yi[i-1]+k2/2,t_values[i-1]+h/2)\n",
        "    k4 = h*yprime(yi[i-1]+k3,t_values[i-1]+h)\n",
        "    yi[i] = yi[i-1] + (k1+2*k2+2*k3+k4)/6\n",
        "  return yi\n",
        "\n",
        "\n",
        "def rkFul6(yprime, ti, tf, y0, hmax, hmin, tol):\n",
        "  t = ti\n",
        "  y = y0\n",
        "  h = hmax\n",
        "  flag = 1\n",
        "\n",
        "  # Calculate the number of steps 'N' based on hmax and the interval\n",
        "  N = int((tf - ti) / hmax) + 1  # Add 1 to include the initial point\n",
        "\n",
        "  # Initialize y_values with the correct size\n",
        "  y_values = np.zeros(N)\n",
        "  y_values[0] = y0  # Set the initial value\n",
        "\n",
        "  i = 1\n",
        "  while flag == 1:\n",
        "    k1 = h * yprime(y_values[i - 1], t)\n",
        "    k2 = h * yprime(y_values[i - 1] + k1 / 4, t + h / 4)\n",
        "    k3 = h * yprime(y_values[i - 1] + 3 * k1 / 32 + 9 * k2 / 32, t + 3 * h / 8)\n",
        "    k4 = h * yprime(y_values[i - 1] + (1932 * k1 / 2197) - (7200 * k2 / 2197) + (7296 * k3 / 2197), t + (12 * h) / 13)\n",
        "    k5 = h * yprime(y_values[i - 1] + (439 * k1 / 216) - 8 * k2 + (3680 * k3 / 513) - (845 * k4 / 4104), t + h)\n",
        "    k6 = h * yprime(y_values[i - 1] - (8 * k1 / 27) + 2 * k2 - (3544 * k3 / 2565) + (1859 * k4 / 4104) - (11 * k5 / 40), t + h / 2)\n",
        "\n",
        "    R = (abs((k1 / 360) - (128 * k3 / 4275) - (2197 * k4 / 75240) + (k5 / 50) + (2 * k6 / 55))) / h\n",
        "\n",
        "    if R <= tol:\n",
        "        t = t + h\n",
        "        y_values[i] = y_values[i - 1] + (25 * k1 / 216) + (1408 * k3 / 2565) + (2197 * k4 / 4104) - (k5 / 5)\n",
        "        i += 1\n",
        "\n",
        "    # Dynamic step size adjustment:\n",
        "    delta = 0.84 * (tol / R)**(1/4)  # Using 'delta' instead of 'delt'\n",
        "\n",
        "    if delta <= 0.1:\n",
        "        h = 0.1 * h\n",
        "    elif delta >= 4:\n",
        "        h = 4 * h\n",
        "    else:\n",
        "        h = delta * h\n",
        "\n",
        "    # Enforce step size limits:\n",
        "    h = min(hmax, max(hmin, h))\n",
        "\n",
        "    # Check if 'i' has reached 'N', and if so, set flag to 0\n",
        "    if i >= N:\n",
        "        flag = 0\n",
        "    # Termination conditions:\n",
        "    if t >= tf:\n",
        "      flag = 0\n",
        "    elif t + h > tf:\n",
        "      h = tf - t  # Adjust h for the last step\n",
        "    elif h < hmin:\n",
        "      flag = 0\n",
        "      #print('minimum h exceeded') # Remove or comment out printing\n",
        "  return y_values"
      ],
      "metadata": {
        "id": "y88ChmTTECxB"
      },
      "execution_count": null,
      "outputs": []
    },
    {
      "cell_type": "code",
      "source": [
        "midpointy = midpoint(lambda y,t: (1+(t-y)**2), 2,10,3,1)\n",
        "realy = realVal(2,3,10)\n",
        "modEul = modified_euler(lambda y,t: (1+(t-y)**2), 2,10,3,1)\n",
        "huenEq = huen(lambda y,t: (1+(t-y)**2), 2,10,3,1)\n",
        "rk4Eq = rk4(lambda y,t: (1+(t-y)**2), 2,10,3,1)\n",
        "rkFul6y = rkFul6(lambda y,t: (1+(t-y)**2), 2,3,1,0.1,0.001,0.0001)"
      ],
      "metadata": {
        "id": "ELGdEn0ZEe1L"
      },
      "execution_count": null,
      "outputs": []
    },
    {
      "cell_type": "code",
      "source": [
        "import pandas as pd\n",
        "\n",
        "errormid = np.zeros(11)\n",
        "errorModEul = np.zeros(11)\n",
        "errorHuen = np.zeros(11)\n",
        "errorRk4 = np.zeros(11)\n",
        "errorRkf = np.zeros(11)\n",
        "for i in range(11):\n",
        "  errormid[i] = abs(midpointy[i] - realy[i])\n",
        "  errorModEul[i] = abs(modEul[i] - realy[i])\n",
        "  errorHuen[i] = abs(huenEq[i] - realy[i])\n",
        "  errorRk4[i] = abs(rk4Eq[i] - realy[i])\n",
        "  errorRkf[i] = abs(rkFul6y[i] - realy[i])\n",
        "\n",
        "midpt = pd.DataFrame({'Midpoint Method': midpointy, 'Real Value': realy, 'Error': errormid})\n",
        "modEulpt = pd.DataFrame({'Modified Euler Method': modEul, 'Real Value': realy, 'Error': errorModEul})\n",
        "huenpt = pd.DataFrame({'Huen Method': huenEq, 'Real Value': realy, 'Error': errorHuen})\n",
        "rk4pt = pd.DataFrame({'RK4 Method': rk4Eq, 'Real Value': realy, 'Error': errorRk4})\n",
        "rkFul6pt = pd.DataFrame({'RK6 Method': rkFul6y, 'Real Value': realy, 'Error': errorRkf})\n",
        "\n",
        "\n",
        "midpt, modEulpt, huenpt, rk4pt, rkFul6pt"
      ],
      "metadata": {
        "colab": {
          "base_uri": "https://localhost:8080/"
        },
        "id": "ACeDzsOQF73f",
        "outputId": "519502cd-9297-4e6e-f1b5-dcf5716743fd"
      },
      "execution_count": null,
      "outputs": [
        {
          "output_type": "execute_result",
          "data": {
            "text/plain": [
              "(    Midpoint Method  Real Value     Error\n",
              " 0          1.000000    1.000000  0.000000\n",
              " 1          1.190250    1.190909  0.000659\n",
              " 2          1.365656    1.366667  0.001010\n",
              " 3          1.529582    1.530769  0.001187\n",
              " 4          1.684452    1.685714  0.001262\n",
              " 5          1.832055    1.833333  0.001279\n",
              " 6          1.973739    1.975000  0.001261\n",
              " 7          2.110542    2.111765  0.001223\n",
              " 8          2.243270    2.244444  0.001174\n",
              " 9          2.372563    2.373684  0.001121\n",
              " 10         2.498934    2.500000  0.001066,\n",
              "     Modified Euler Method  Real Value     Error\n",
              " 0                1.000000    1.000000  0.000000\n",
              " 1                1.190500    1.190909  0.000409\n",
              " 2                1.366038    1.366667  0.000629\n",
              " 3                1.530029    1.530769  0.000740\n",
              " 4                1.684925    1.685714  0.000789\n",
              " 5                1.832533    1.833333  0.000801\n",
              " 6                1.974210    1.975000  0.000790\n",
              " 7                2.110997    2.111765  0.000768\n",
              " 8                2.243706    2.244444  0.000738\n",
              " 9                2.372979    2.373684  0.000705\n",
              " 10               2.499329    2.500000  0.000671,\n",
              "     Huen Method  Real Value     Error\n",
              " 0      1.000000    1.000000  0.000000\n",
              " 1      1.190333    1.190909  0.000576\n",
              " 2      1.365783    1.366667  0.000883\n",
              " 3      1.529731    1.530769  0.001038\n",
              " 4      1.684610    1.685714  0.001104\n",
              " 5      1.832214    1.833333  0.001119\n",
              " 6      1.973896    1.975000  0.001104\n",
              " 7      2.110694    2.111765  0.001071\n",
              " 8      2.243416    2.244444  0.001029\n",
              " 9      2.372702    2.373684  0.000982\n",
              " 10     2.499066    2.500000  0.000934,\n",
              "     RK4 Method  Real Value         Error\n",
              " 0     1.000000    1.000000  0.000000e+00\n",
              " 1     1.190909    1.190909  2.772413e-07\n",
              " 2     1.366666    1.366667  3.955097e-07\n",
              " 3     1.530769    1.530769  4.365225e-07\n",
              " 4     1.685714    1.685714  4.396070e-07\n",
              " 5     1.833333    1.833333  4.243992e-07\n",
              " 6     1.975000    1.975000  4.009492e-07\n",
              " 7     2.111764    2.111765  3.744632e-07\n",
              " 8     2.244444    2.244444  3.476277e-07\n",
              " 9     2.373684    2.373684  3.217906e-07\n",
              " 10    2.500000    2.500000  2.975802e-07,\n",
              "     RK6 Method  Real Value         Error\n",
              " 0     1.000000    1.000000  0.000000e+00\n",
              " 1     1.190909    1.190909  8.915122e-08\n",
              " 2     1.366667    1.366667  1.274292e-07\n",
              " 3     1.530769    1.530769  1.407615e-07\n",
              " 4     1.685714    1.685714  1.417905e-07\n",
              " 5     1.833333    1.833333  1.368741e-07\n",
              " 6     1.975000    1.975000  1.292783e-07\n",
              " 7     2.111765    2.111765  1.206976e-07\n",
              " 8     2.244445    2.244444  1.120062e-07\n",
              " 9     2.373684    2.373684  1.036424e-07\n",
              " 10    2.500000    2.500000  9.580975e-08)"
            ]
          },
          "metadata": {},
          "execution_count": 70
        }
      ]
    },
    {
      "cell_type": "markdown",
      "source": [
        "Problem 7"
      ],
      "metadata": {
        "id": "jbfewQPpZLeM"
      }
    },
    {
      "cell_type": "code",
      "source": [
        "def euler(yprime, ti, N, tf, y0):\n",
        "  h = (tf - ti)/N\n",
        "  yi = np.zeros(N+1)\n",
        "  yi[0] = y0\n",
        "  t_values = [ti + i * h for i in range(0,N+1)]\n",
        "  for i in range(1,N+1):\n",
        "    #tval = ti + (i-1) * h\n",
        "    yi[i] = yi[i-1] + h*yprime(yi[i-1],t_values[i-1])\n",
        "  return yi\n",
        "def eulerReal(ti, tf, N):\n",
        "  h = (tf-ti)/N\n",
        "  yf = np.zeros(N+1)\n",
        "  t_values = [ti + i * h for i in range(0,N+1)]\n",
        "  for i in range(0,N+1):\n",
        "    #tval = ti + (i-1) * h\n",
        "    yf[i] = -1/(t_values[i])\n",
        "  return yf"
      ],
      "metadata": {
        "id": "CnlIkwuwbGtj"
      },
      "execution_count": null,
      "outputs": []
    },
    {
      "cell_type": "code",
      "source": [
        "yeul = euler(lambda y,t: (1/t**2)-(y/t)-y**2, 1,20,2,-1)\n",
        "yeul"
      ],
      "metadata": {
        "id": "XEKzuqlUZNem",
        "colab": {
          "base_uri": "https://localhost:8080/"
        },
        "outputId": "0bd8c604-c55b-47bd-b480-d15d6144dec1"
      },
      "execution_count": null,
      "outputs": [
        {
          "output_type": "execute_result",
          "data": {
            "text/plain": [
              "array([-1.        , -0.95      , -0.90453543, -0.86300709, -0.82491692,\n",
              "       -0.78984755, -0.75744661, -0.72741452, -0.69949499, -0.67346748,\n",
              "       -0.64914118, -0.62635013, -0.60494936, -0.58481163, -0.56582482,\n",
              "       -0.54788976, -0.5309184 , -0.51483228, -0.49956131, -0.48504262,\n",
              "       -0.4712197 ])"
            ]
          },
          "metadata": {},
          "execution_count": 15
        }
      ]
    },
    {
      "cell_type": "code",
      "source": [
        "reul = eulerReal(1,2,20)"
      ],
      "metadata": {
        "id": "oZZ0ebBCZby8"
      },
      "execution_count": null,
      "outputs": []
    },
    {
      "cell_type": "code",
      "source": [
        "polp6 = get_polynomial(np.array([1,2]),np.array([-1,-0.4712197]),2)"
      ],
      "metadata": {
        "id": "1pJ-oIITWjd6"
      },
      "execution_count": null,
      "outputs": []
    },
    {
      "cell_type": "code",
      "source": [
        "print(polp6.subs(x,1.052))\n",
        "print(polp6.subs(x,1.555))\n",
        "print(polp6.subs(x,1.978))"
      ],
      "metadata": {
        "colab": {
          "base_uri": "https://localhost:8080/"
        },
        "id": "RKfQHHa5W8Ju",
        "outputId": "922d4277-6179-406d-fe9e-b0263956a1d4"
      },
      "execution_count": null,
      "outputs": [
        {
          "output_type": "stream",
          "name": "stdout",
          "text": [
            "-0.972503424400000\n",
            "-0.706526933500000\n",
            "-0.482852866600000\n"
          ]
        }
      ]
    },
    {
      "cell_type": "code",
      "source": [
        "actualerr = np.zeros(21)\n",
        "for i in range(21):\n",
        "  actualerr[i] = reul[i] - yeul[i]\n",
        "actualerr"
      ],
      "metadata": {
        "id": "ruipOjXKaqGy",
        "colab": {
          "base_uri": "https://localhost:8080/"
        },
        "outputId": "ef571b8b-93da-4854-ef5c-90d4ae27a361"
      },
      "execution_count": null,
      "outputs": [
        {
          "output_type": "execute_result",
          "data": {
            "text/plain": [
              "array([ 0.        , -0.00238095, -0.00455548, -0.00655813, -0.00841642,\n",
              "       -0.01015245, -0.01178416, -0.01332622, -0.01479072, -0.01618769,\n",
              "       -0.01752549, -0.01881116, -0.02005064, -0.02124898, -0.02241047,\n",
              "       -0.02353881, -0.02463716, -0.02570826, -0.02675448, -0.0277779 ,\n",
              "       -0.0287803 ])"
            ]
          },
          "metadata": {},
          "execution_count": 10
        }
      ]
    },
    {
      "cell_type": "code",
      "source": [
        "L = diff((1/t**2)-(y/t)-y**2,y)\n",
        "finL = L.subs(y,-0.4712197)\n",
        "lFin = finL.subs(t,2)\n",
        "lFin"
      ],
      "metadata": {
        "colab": {
          "base_uri": "https://localhost:8080/",
          "height": 37
        },
        "id": "CFTVWy-VI1S_",
        "outputId": "5f674b8b-60e9-4f5e-d354-722d9564ffd3"
      },
      "execution_count": null,
      "outputs": [
        {
          "output_type": "execute_result",
          "data": {
            "text/plain": [
              "0.442439400000000"
            ],
            "text/latex": "$\\displaystyle 0.4424394$"
          },
          "metadata": {},
          "execution_count": 11
        }
      ]
    },
    {
      "cell_type": "code",
      "source": [
        "M = diff(diff((-1/t),t),t)\n",
        "finM = M.subs(t,2)\n",
        "finM"
      ],
      "metadata": {
        "colab": {
          "base_uri": "https://localhost:8080/",
          "height": 51
        },
        "id": "vIP3X4yyXtMw",
        "outputId": "17890a51-1bc6-4f88-d6c6-3da001c15ced"
      },
      "execution_count": null,
      "outputs": [
        {
          "output_type": "execute_result",
          "data": {
            "text/plain": [
              "-1/4"
            ],
            "text/latex": "$\\displaystyle - \\frac{1}{4}$"
          },
          "metadata": {},
          "execution_count": 12
        }
      ]
    },
    {
      "cell_type": "code",
      "source": [
        "def boundErr(ti, tf, N, L, M):\n",
        "  h = (tf-ti)/N\n",
        "  errBound = np.zeros(N+1)\n",
        "  t_values = [ti + i * h for i in range(0,N+1)]\n",
        "  for i in range(0,N+1):\n",
        "    #tval = ti + (i-1) * h\n",
        "    errBound[i] = ((h*M)*(np.exp(L*(t_values[i]-1)) - 1))/(-2*L)\n",
        "  return errBound"
      ],
      "metadata": {
        "id": "mJA_MR4CJkFK"
      },
      "execution_count": null,
      "outputs": []
    },
    {
      "cell_type": "code",
      "source": [
        "boundErr(1,2,20,0.4424394,-0.25)"
      ],
      "metadata": {
        "colab": {
          "base_uri": "https://localhost:8080/"
        },
        "id": "GUA60SiHLcXI",
        "outputId": "9b840880-4655-40a3-e43f-c439c8187c19"
      },
      "execution_count": null,
      "outputs": [
        {
          "output_type": "execute_result",
          "data": {
            "text/plain": [
              "array([0.        , 0.00031598, 0.00063903, 0.00096931, 0.00130697,\n",
              "       0.00165219, 0.00200513, 0.00236596, 0.00273487, 0.00311203,\n",
              "       0.00349762, 0.00389184, 0.00429487, 0.00470693, 0.00512819,\n",
              "       0.00555889, 0.00599921, 0.00644939, 0.00690963, 0.00738017,\n",
              "       0.00786124])"
            ]
          },
          "metadata": {},
          "execution_count": 31
        }
      ]
    },
    {
      "cell_type": "markdown",
      "source": [
        "As we can see that actual error in greater than bound error. Hence euler's method doesn't work well. According to theorem 9 h*M is too big for this problem. We maybe could resolve it with smaller h for higher order method"
      ],
      "metadata": {
        "id": "deQ3-4GtMXpR"
      }
    },
    {
      "cell_type": "markdown",
      "source": [
        "Solution to part c):We see that a step size of h=0.01\n",
        "\n",
        "List item\n",
        "List item\n",
        "will yeild the desired result\n"
      ],
      "metadata": {
        "id": "OqrPbALpYn0Q"
      }
    },
    {
      "cell_type": "markdown",
      "source": [
        "Correction"
      ],
      "metadata": {
        "id": "0k0-7hRvZW-f"
      }
    },
    {
      "cell_type": "code",
      "source": [
        "def euler(f,y0,t1,tf,h):\n",
        "    n=int((tf-t1)/h )\n",
        "    i=0\n",
        "    Output=np.zeros((n+1,3))\n",
        "    Output[(0,0)]=y0\n",
        "    Output[(0,1)]=t1\n",
        "    Output[(0,2)]=-1/t1\n",
        "    while i < n:\n",
        "      i+=1\n",
        "      Output[(i,1)]=t1+i*h\n",
        "      Output[(i,0)]=Output[(i-1,0)]+h*f(Output[(i-1,0)],Output[(i-1,1)])\n",
        "      Output[(i,2)]=-1/(t1+i*h)\n",
        "    return Output"
      ],
      "metadata": {
        "id": "SZnQErUFZbxe"
      },
      "execution_count": null,
      "outputs": []
    },
    {
      "cell_type": "code",
      "source": [
        "i=0   # This script adjusts our step size until the desired Tolerance is reached.\n",
        "h=0.1\n",
        "while i<10:\n",
        "  out=euler(lambda x,t: t**-2-x*t**(-1)-x**2,-1,1,2,h)  # This line should be indented to be inside the while loop\n",
        "  test =np.abs( out[(-1,2)]-out[(-1,0)])\n",
        "\n",
        "  if test < 0.05:\n",
        "    i=11\n",
        "  else:\n",
        "    h-=.01\n",
        "print(h)"
      ],
      "metadata": {
        "colab": {
          "base_uri": "https://localhost:8080/"
        },
        "id": "yPEkBqE4ZhwA",
        "outputId": "30617541-0a4c-4a0d-91b0-1b7d2a7ae38f"
      },
      "execution_count": null,
      "outputs": [
        {
          "output_type": "stream",
          "name": "stdout",
          "text": [
            "0.08000000000000002\n"
          ]
        }
      ]
    },
    {
      "cell_type": "code",
      "source": [
        "first=euler(lambda x,t: t**-2-x*t**(-1)-x**2,-1,1,2,0.05)"
      ],
      "metadata": {
        "id": "OOW6JXNoZ1R4"
      },
      "execution_count": null,
      "outputs": []
    },
    {
      "cell_type": "code",
      "source": [
        "def linterp(a,b,h,t1,x):\n",
        "  y=(b-a)*(x-t1)/h+a\n",
        "  return y"
      ],
      "metadata": {
        "id": "LVOk5XVvZ4sv"
      },
      "execution_count": null,
      "outputs": []
    },
    {
      "cell_type": "code",
      "source": [
        "Parti=linterp(first[1,0],first[2,0],first[1,1],.05,1.052) #interpolation for part i\n",
        "print(Parti)\n",
        "print((-1/1.052))\n",
        "print(Parti-(-1/1.052))"
      ],
      "metadata": {
        "colab": {
          "base_uri": "https://localhost:8080/"
        },
        "id": "7jumORItaCLQ",
        "outputId": "8b1358ad-b7db-4b84-927f-fddd55106f73"
      },
      "execution_count": null,
      "outputs": [
        {
          "output_type": "stream",
          "name": "stdout",
          "text": [
            "-0.906613811143505\n",
            "-0.9505703422053231\n",
            "0.04395653106181807\n"
          ]
        }
      ]
    },
    {
      "cell_type": "code",
      "source": [
        "first[19,1]"
      ],
      "metadata": {
        "colab": {
          "base_uri": "https://localhost:8080/",
          "height": 37
        },
        "id": "zzah_e35aFro",
        "outputId": "a6aa75af-7931-4753-a338-f82f157647e8"
      },
      "execution_count": null,
      "outputs": [
        {
          "output_type": "execute_result",
          "data": {
            "text/plain": [
              "1.9500000000000002"
            ],
            "text/latex": "$\\displaystyle 1.95$"
          },
          "metadata": {},
          "execution_count": 23
        }
      ]
    },
    {
      "cell_type": "code",
      "source": [
        "Partii=linterp(first[11,0],first[12,0],first[11,1],.05,1.555) #interpolation for part ii\n",
        "print(Partii)\n",
        "print((-1/1.555))\n",
        "print(Partii-(-1/1.555))"
      ],
      "metadata": {
        "colab": {
          "base_uri": "https://localhost:8080/"
        },
        "id": "ig5168F8aIdA",
        "outputId": "4097a832-27c4-4f55-ef74-1e88f8b03f2a"
      },
      "execution_count": null,
      "outputs": [
        {
          "output_type": "stream",
          "name": "stdout",
          "text": [
            "-0.6055706691992361\n",
            "-0.6430868167202572\n",
            "0.03751614752102117\n"
          ]
        }
      ]
    },
    {
      "cell_type": "code",
      "source": [
        "Partiii=linterp(first[19,0],first[20,0],first[19,1],.05,1.97)  # Interpolation for part iii\n",
        "print(Partiii)\n",
        "print(-1/1.97)\n",
        "print(Partiii-(-1/1.97))"
      ],
      "metadata": {
        "colab": {
          "base_uri": "https://localhost:8080/"
        },
        "id": "8GQqJBvUaK6f",
        "outputId": "2acb02b8-36a9-4d62-8f4b-c26db292060b"
      },
      "execution_count": null,
      "outputs": [
        {
          "output_type": "stream",
          "name": "stdout",
          "text": [
            "-0.4714323590959677\n",
            "-0.5076142131979695\n",
            "0.03618185410200181\n"
          ]
        }
      ]
    },
    {
      "cell_type": "markdown",
      "source": [
        "Problem 8"
      ],
      "metadata": {
        "id": "4zFIUpPocu2i"
      }
    },
    {
      "cell_type": "code",
      "source": [
        "def rk4(yprime, ti, N, tf, y0):\n",
        "  h = (tf - ti)/N\n",
        "  yi = np.zeros(N+1)\n",
        "  yi[0] = y0\n",
        "  t_values = [ti + i * h for i in range(0,N+1)]\n",
        "  for i in range(1,N+1):\n",
        "    k1 = h*yprime(yi[i-1],t_values[i-1])\n",
        "    k2 = h*yprime(yi[i-1]+k1/2,t_values[i-1]+h/2)\n",
        "    k3 = h*yprime(yi[i-1]+k2/2,t_values[i-1]+h/2)\n",
        "    k4 = h*yprime(yi[i-1]+k3,t_values[i-1]+h)\n",
        "    yi[i] = yi[i-1] + (k1+2*k2+2*k3+k4)/6\n",
        "  return yi,np.array(t_values)"
      ],
      "metadata": {
        "id": "hKRemApYcuYh"
      },
      "execution_count": null,
      "outputs": []
    },
    {
      "cell_type": "code",
      "source": [
        "rk4(lambda y,t: -9.8-(0.002/0.11)*y*abs(y),0,10,1,8)"
      ],
      "metadata": {
        "colab": {
          "base_uri": "https://localhost:8080/"
        },
        "id": "jLxcKCTYc-jS",
        "outputId": "26024c5c-ae21-4d67-fc65-f5f379424663"
      },
      "execution_count": null,
      "outputs": [
        {
          "output_type": "execute_result",
          "data": {
            "text/plain": [
              "(array([ 8.        ,  6.91872176,  5.86432519,  4.83218933,  3.81804238,\n",
              "         2.81788682,  1.82793351,  0.84454254, -0.13582005, -1.11496321,\n",
              "        -2.09014689]),\n",
              " array([0. , 0.1, 0.2, 0.3, 0.4, 0.5, 0.6, 0.7, 0.8, 0.9, 1. ]))"
            ]
          },
          "metadata": {},
          "execution_count": 28
        }
      ]
    },
    {
      "cell_type": "markdown",
      "source": [
        "Part b = 0.8 s"
      ],
      "metadata": {
        "id": "SKVOdcPmfMMd"
      }
    },
    {
      "cell_type": "markdown",
      "source": [
        "Problem 9"
      ],
      "metadata": {
        "id": "kbn5r9I_gkcx"
      }
    },
    {
      "cell_type": "code",
      "source": [
        "ht, tm = rk4(lambda y,t: -(0.6*math.pi*(0.1**2)*np.sqrt(2*32.1)*(np.sqrt(y)*y)/(512*math.pi/3)),0,30,600,8)"
      ],
      "metadata": {
        "id": "xWRSvdokgjKY"
      },
      "execution_count": null,
      "outputs": []
    },
    {
      "cell_type": "code",
      "source": [
        "waterlev = get_polynomial(np.array([20,300,560,600]), np.array([7.87402953,6.38312857,5.3478069,5.2111378]),4)"
      ],
      "metadata": {
        "id": "RcoQpiUgmBLT"
      },
      "execution_count": null,
      "outputs": []
    },
    {
      "cell_type": "code",
      "source": [
        "solve(waterlev,x)"
      ],
      "metadata": {
        "colab": {
          "base_uri": "https://localhost:8080/",
          "height": 58
        },
        "id": "-yfLB85vrejJ",
        "outputId": "e05d54d1-9e89-4186-9178-85d6de17b263"
      },
      "execution_count": null,
      "outputs": [
        {
          "output_type": "execute_result",
          "data": {
            "text/plain": [
              "[2120.94989390562, 577.065169418397 - 1816.56674431049⋅ⅈ, 577.065169418397 + 1816.56674431049⋅ⅈ]"
            ],
            "text/latex": "$\\displaystyle \\left[ 2120.94989390562, \\  577.065169418397 - 1816.56674431049 i, \\  577.065169418397 + 1816.56674431049 i\\right]$"
          },
          "metadata": {},
          "execution_count": 37
        }
      ]
    },
    {
      "cell_type": "code",
      "source": [
        "simplify(waterlev)"
      ],
      "metadata": {
        "colab": {
          "base_uri": "https://localhost:8080/",
          "height": 59
        },
        "id": "Rzk3jE3soiqv",
        "outputId": "9f19cadc-63e0-47ec-9a10-ceaf8f962596"
      },
      "execution_count": null,
      "outputs": [
        {
          "output_type": "execute_result",
          "data": {
            "text/plain": [
              "                       3                        2                                           \n",
              "- 1.03811558460695e-9⋅x  + 3.39991183044932e-6⋅x  - 0.00631254372910192⋅x + 7.99892874477454"
            ],
            "text/latex": "$\\displaystyle - 1.03811558460695 \\cdot 10^{-9} x^{3} + 3.39991183044932 \\cdot 10^{-6} x^{2} - 0.00631254372910192 x + 7.99892874477454$"
          },
          "metadata": {},
          "execution_count": 38
        }
      ]
    },
    {
      "cell_type": "code",
      "source": [
        "def secant(f, p0, p1, tol):\n",
        "  for n in range (1,20):\n",
        "    p = p1 - f(p1)*(p1-p0)/(f(p1)-f(p0))\n",
        "    if f(p) == 0 or np.abs((p-p1)/p) < tol:\n",
        "      print('6b) Secant value for p is :', p, 'Iteration is: ' ,n,)\n",
        "      return\n",
        "    p0 = p1\n",
        "    p1 = p\n",
        "    n=n+1\n",
        "  y = f(p)\n",
        "  print('Does not work, function value is', y)"
      ],
      "metadata": {
        "id": "e7jjPCo7pccN"
      },
      "execution_count": null,
      "outputs": []
    },
    {
      "cell_type": "code",
      "source": [
        "secant(lambda x: -1.03811558460695e-9*x**3+3.39991183044932e-6*x**2-0.00631254372910192*x+7.99892874477454, 1900, 2200,60)"
      ],
      "metadata": {
        "colab": {
          "base_uri": "https://localhost:8080/"
        },
        "id": "BCKXJtVMqB6B",
        "outputId": "a8e24ea4-fa86-43ed-af3e-c0b1a075c23c"
      },
      "execution_count": null,
      "outputs": [
        {
          "output_type": "stream",
          "name": "stdout",
          "text": [
            "6b) Secant value for p is : 2111.2104560862854 Iteration is:  1\n"
          ]
        }
      ]
    },
    {
      "cell_type": "markdown",
      "source": [
        "Problem 10"
      ],
      "metadata": {
        "id": "ojiQP9iZOo_A"
      }
    },
    {
      "cell_type": "code",
      "source": [
        "def systemSiimpleRK4(y1prime, y2prime, ti, N, tf, y10, y20):\n",
        "    h = (tf - ti) / N\n",
        "    t = ti\n",
        "    y1 = np.zeros(N + 1)\n",
        "    y2 = np.zeros(N + 1)\n",
        "    y1[0] = y10\n",
        "    y2[0] = y20\n",
        "\n",
        "    k1s = np.zeros((N + 1, 2))\n",
        "    k2s = np.zeros((N + 1, 2))\n",
        "    k3s = np.zeros((N + 1, 2))\n",
        "    k4s = np.zeros((N + 1, 2))\n",
        "\n",
        "\n",
        "    for j in range(1, N + 1):\n",
        "        k1s[j, 0] = h * y1prime(y1[j - 1], y2[j - 1], t)\n",
        "        k1s[j, 1] = h * y2prime(y1[j - 1], y2[j - 1], t)\n",
        "\n",
        "        k2s[j, 0] = h * y1prime(y1[j - 1] + k1s[j, 0] / 2, y2[j - 1] + k1s[j, 1] / 2, t + h / 2)\n",
        "        k2s[j, 1] = h * y2prime(y1[j - 1] + k1s[j, 0] / 2, y2[j - 1] + k1s[j, 1] / 2, t + h / 2)\n",
        "\n",
        "        k3s[j, 0] = h * y1prime(y1[j - 1] + k2s[j, 0] / 2, y2[j - 1] + k2s[j, 1] / 2, t + h / 2)\n",
        "        k3s[j, 1] = h * y2prime(y1[j - 1] + k2s[j, 0] / 2, y2[j - 1] + k2s[j, 1] / 2, t + h / 2)\n",
        "\n",
        "        k4s[j, 0] = h * y1prime(y1[j - 1] + k3s[j, 0], y2[j - 1] + k3s[j, 1], t + h)\n",
        "        k4s[j, 1] = h * y2prime(y1[j - 1] + k3s[j, 0], y2[j - 1] + k3s[j, 1], t + h)\n",
        "\n",
        "\n",
        "        t = ti + (j - 1) * h\n",
        "        y1[j] = y1[j - 1] + (k1s[j, 0] + 2 * k2s[j, 0] + 2 * k3s[j, 0] + k4s[j, 0]) / 6\n",
        "        y2[j] = y2[j - 1] + (k1s[j, 1] + 2 * k2s[j, 1] + 2 * k3s[j, 1] + k4s[j, 1]) / 6\n",
        "\n",
        "    return y1, y2"
      ],
      "metadata": {
        "id": "2EUQpndAMi-E"
      },
      "execution_count": null,
      "outputs": []
    },
    {
      "cell_type": "code",
      "source": [
        "u1,u2 = systemSiimpleRK4(lambda u1,u2,t: 1*(u2), lambda u1, u2, t: ((-32.17/2)*np.sin(u1)),0,20,2,np.pi/6,0)\n",
        "u11,u22 = systemSiimpleRK4(lambda u1,u2,t: 1*(u2), lambda u1, u2, t: ((-32.17/2)*u1),0,20,2,np.pi/6,0)"
      ],
      "metadata": {
        "id": "5CR5H8glUnGB"
      },
      "execution_count": null,
      "outputs": []
    },
    {
      "cell_type": "code",
      "source": [
        "import matplotlib.pyplot as plt\n",
        "t = np.linspace(0, 2, 21)\n",
        "\n",
        "\n",
        "plt.plot(t, u1, label='Sin(theta)')\n",
        "plt.plot(t, u11, label='theta')\n",
        "\n",
        "plt.xlabel(\"Time\")\n",
        "plt.ylabel(\"Values\")\n",
        "plt.title(\"Comparing the value for theta for (a) and (b)\")\n",
        "plt.legend()\n",
        "plt.grid(True)\n",
        "plt.show()"
      ],
      "metadata": {
        "colab": {
          "base_uri": "https://localhost:8080/",
          "height": 472
        },
        "id": "OKfOY9EvZ2S-",
        "outputId": "48c94f3b-91fa-4058-919f-e2ed61f4cd7f"
      },
      "execution_count": null,
      "outputs": [
        {
          "output_type": "display_data",
          "data": {
            "text/plain": [
              "<Figure size 640x480 with 1 Axes>"
            ],
            "image/png": "[encoded data removed]"
          },
          "metadata": {}
        }
      ]
    },
    {
      "cell_type": "code",
      "source": [
        "x1,x2 = systemSiimpleRK4(lambda x1,x2,t: x1*(4-0.0003*x1-0.0004*x2), lambda x1,x2,t: x2*(2-0.0002*x1-0.0001*x2),0,20,4, 10000,10000)"
      ],
      "metadata": {
        "id": "9XGDWFU5Orpw"
      },
      "execution_count": null,
      "outputs": []
    },
    {
      "cell_type": "code",
      "source": [
        "import matplotlib.pyplot as plt\n",
        "t = np.linspace(0, 4, 21)\n",
        "\n",
        "\n",
        "plt.plot(t, x1, label='x1')\n",
        "plt.plot(t, x2, label='x2')\n",
        "\n",
        "plt.xlabel(\"Time\")\n",
        "plt.ylabel(\"Values\")\n",
        "plt.title(\"Plot of y1 and y2 as a function of time\")\n",
        "plt.legend()\n",
        "plt.grid(True)\n",
        "plt.show()"
      ],
      "metadata": {
        "colab": {
          "base_uri": "https://localhost:8080/",
          "height": 472
        },
        "id": "HsTPU25sPrBa",
        "outputId": "99d810b0-40a7-428a-f51f-24b63f9e1128"
      },
      "execution_count": null,
      "outputs": [
        {
          "output_type": "display_data",
          "data": {
            "text/plain": [
              "<Figure size 640x480 with 1 Axes>"
            ],
            "image/png": "[encoded data removed]"
          },
          "metadata": {}
        }
      ]
    },
    {
      "cell_type": "code",
      "source": [],
      "metadata": {
        "id": "QJOBI03fQVT0"
      },
      "execution_count": null,
      "outputs": []
    }
  ]
}